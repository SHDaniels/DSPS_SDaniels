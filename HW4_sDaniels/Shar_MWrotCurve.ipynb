{
 "cells": [
  {
   "cell_type": "markdown",
   "metadata": {
    "colab_type": "text",
    "id": "view-in-github"
   },
   "source": [
    "<a href=\"https://colab.research.google.com/github/SHDaniels/DSPS_sDaniels/blob/main/HW4_sDaniels/Shar_MWrotCurve.ipynb\" target=\"_parent\"><img src=\"https://colab.research.google.com/assets/colab-badge.svg\" alt=\"Open In Colab\"/></a>"
   ]
  },
  {
   "cell_type": "markdown",
   "metadata": {
    "id": "rxa6Xa3jOdCI",
    "run_control": {
     "frozen": false,
     "read_only": false
    }
   },
   "source": [
    "prepared by federica b bianco @fedhere\n",
    "for UDel DSPS PHYS 461/661\n",
    "\n",
    "# testing the \"significance\" of Dark Matter"
   ]
  },
  {
   "cell_type": "code",
   "execution_count": 1,
   "metadata": {
    "ExecuteTime": {
     "end_time": "2019-09-16T17:54:57.244596Z",
     "start_time": "2019-09-16T17:54:57.231090Z"
    },
    "id": "Ya2RaOGbOdCJ",
    "run_control": {
     "frozen": false,
     "read_only": false
    }
   },
   "outputs": [],
   "source": [
    "#package I will use for constants and units conversion\n",
    "import astropy\n",
    "from astropy.constants import G\n",
    "\n",
    "#package used to display latex formuale\n",
    "from IPython.display import Latex\n",
    "\n",
    "import numpy as np\n",
    "import pandas as pd\n",
    "import matplotlib.pyplot as plt"
   ]
  },
  {
   "cell_type": "markdown",
   "metadata": {
    "id": "4qp8A2TG1Gwb"
   },
   "source": [
    "In 1970 Vera Rubin published a seminal paper: she measured the rotational speed of HII regions in several galaxies and how it changed as a function of distance to the center of the galaxy. If we believe Newtonian gravity (or GR) we expect that _once all of the mass is included_, i.e. at a radius distance from the center of the galaxy larger than the radius of the galaxy itself, the rotational speed will be proportional to $v\\propto\\frac{1}/{r}$"
   ]
  },
  {
   "cell_type": "markdown",
   "metadata": {
    "id": "j-BDrNseOdCR",
    "run_control": {
     "frozen": false,
     "read_only": false
    }
   },
   "source": [
    "## Propagation of  uncertainties rules\n",
    "\n",
    "below are the basic rules for propagation of uncertainties - use [this as reference](https://github.com/fedhere/DSPS/blob/master/resources/Managing%20Errors%20and%20Uncertainty.pdf)"
   ]
  },
  {
   "cell_type": "markdown",
   "metadata": {
    "id": "4LnLCwYpPYSv"
   },
   "source": []
  },
  {
   "cell_type": "markdown",
   "metadata": {
    "id": "iCrFipBzOzqp"
   },
   "source": [
    "\n",
    "\n",
    "\n",
    "$$\n",
    "\\begin{eqnarray}\n",
    "z = x  \\pm y  ~| & ~  &dz = \\sqrt{dx^2 + dy^2}\n",
    "\\\\\n",
    "z = x * y  ~| & ~& dz = |xy|  \\sqrt{\\left(\\frac{dx}{x}\\right)^2 +\n",
    "                                \\left(\\frac{dy}{y}\\right)^2} \\\\\n",
    "z = x / y  ~| & ~& dz = \\left|\\frac{x}{y}\\right| \\sqrt{\\left(\\frac{dx}{x}\\right)^2 +\n",
    "                                                   \\left(\\frac{dy}{y}\\right)^2} \\\\\n",
    "z = x^n ~| & ~& dz = |n| ~ x^{n-1}  dx \\\\\n",
    "z = \\mathrm{c}x ~| & ~& dz = |\\mathrm{c}| ~dx \\\\\n",
    "z = f(x, y) ~| & ~& dz = \\sqrt{\\left(\\frac{\\partial f}{\\partial x}\\right)^2 dx^2 +\\left(\\frac{\\partial f}{\\partial y}\\right)^2 dy^2} \\\\\n",
    "\\end{eqnarray}\n",
    "$$\n"
   ]
  },
  {
   "cell_type": "markdown",
   "metadata": {
    "id": "WcF0zlWCOdCX",
    "run_control": {
     "frozen": false,
     "read_only": false
    }
   },
   "source": [
    "# let's assume a Newtonian framework:\n",
    "the velocity of a body in orbit depends only on the gravitational field of the mass that attracts it, and we can assume that mass is concentrated in the center of mass of (the center for simplicity) the system\n",
    "\n",
    "with G the gravitational constant, $r$ the radius, and $m(r)$ the mass contained within that radius we have the orbital velocity $v$:\n"
   ]
  },
  {
   "cell_type": "markdown",
   "metadata": {
    "id": "ZON0DKl5Qm2S"
   },
   "source": [
    "\n",
    "$v^2 = \\frac{G \\cdot m(r)}{r}$\n"
   ]
  },
  {
   "cell_type": "markdown",
   "metadata": {
    "id": "lVfy9lJ21xMT"
   },
   "source": [
    "Derive this $v\\propto\\frac{1}{r}$ from Newron's law $F~=~\\frac{GMm}{r^2}$. Write each formula and describe each step. You can use latex (you really just need to know ```\\frac{}``` and ```^```) and this reference\n",
    "https://www.physicsclassroom.com/calcpad/circgrav"
   ]
  },
  {
   "cell_type": "code",
   "execution_count": 2,
   "metadata": {
    "id": "mFEbNOeXY-zx"
   },
   "outputs": [],
   "source": [
    "#this latex is from tali, thanks tali!"
   ]
  },
  {
   "cell_type": "markdown",
   "metadata": {
    "id": "4tb5gOqcZFsm"
   },
   "source": [
    "$F = \\frac{GMm}{r^2}$ <br>\n",
    "<br>\n",
    "$m a = \\frac{GMm}{r^2}$ <br>\n",
    "<br>\n",
    "$m \\frac{v^2}{r} = \\frac{GMm}{r^2}$ <br>\n",
    "<br>\n",
    "$v^2 = \\frac{GM}{r}$ <br>\n",
    "<br>\n",
    "$v = \\sqrt{\\frac{GM}{r}}$<br>\n",
    "<br>\n",
    "$v \\propto \\sqrt{\\frac{1}{r}}$"
   ]
  },
  {
   "cell_type": "markdown",
   "metadata": {
    "id": "KQAEJtWuOdCb",
    "run_control": {
     "frozen": false,
     "read_only": false
    }
   },
   "source": [
    "## M31 rotational curve"
   ]
  },
  {
   "cell_type": "markdown",
   "metadata": {
    "ExecuteTime": {
     "end_time": "2019-08-02T01:34:15.029084Z",
     "start_time": "2019-08-02T01:34:15.026604Z"
    },
    "id": "BTaXzFYeOdCc",
    "run_control": {
     "frozen": false,
     "read_only": false
    }
   },
   "source": [
    "### data ingestion\n",
    "( I store the original paper as a link on another computer now I have to find it again :-( - sorry I will updat the reference )\n",
    "\n",
    "Get the data from the github repository https://github.com/fedhere/DSPS/tree/master/HW4 : there are 2 files: mw.csv and m31.csv. Start with M31, the Andromeda galaxy, Vera Rubin's original target."
   ]
  },
  {
   "cell_type": "markdown",
   "metadata": {
    "id": "_iFrkUYEV1SS"
   },
   "source": [
    "Note that the data contains 2 types of uncertainties: one significantly smaller than the other. The ```dv``` uncertainty is the propagation of the uncertainty in the location of the HII line. The uncertainty called ```err``` if the full error budget:  including _all_ sources of uncertainty and not just the uncertainty in measuring the location of the line. Retain both, you will test your hypothesis with each one to see if it matters which uncertainty you choose"
   ]
  },
  {
   "cell_type": "code",
   "execution_count": 3,
   "metadata": {
    "ExecuteTime": {
     "end_time": "2019-08-02T01:34:33.446619Z",
     "start_time": "2019-08-02T01:34:33.435793Z"
    },
    "id": "eZ7nr5DROdCd",
    "run_control": {
     "frozen": false,
     "read_only": false
    }
   },
   "outputs": [],
   "source": [
    "m31 = pd.read_csv(\"https://raw.githubusercontent.com/fedhere/DSPS_FBianco/main/HW4/m31.csv\",\n",
    "                  delimiter=\",\",skipinitialspace=True, header=1)#, skipfooter=2)"
   ]
  },
  {
   "cell_type": "code",
   "execution_count": 4,
   "metadata": {
    "colab": {
     "base_uri": "https://localhost:8080/",
     "height": 226
    },
    "id": "8pdihHxGSYYT",
    "outputId": "4a58ebbb-1ce1-4e99-e7d8-c1d8bb5aaa7a"
   },
   "outputs": [
    {
     "data": {
      "text/html": [
       "\n",
       "  <div id=\"df-5b6b1e91-e2aa-41d5-a14a-1b484069771b\" class=\"colab-df-container\">\n",
       "    <div>\n",
       "<style scoped>\n",
       "    .dataframe tbody tr th:only-of-type {\n",
       "        vertical-align: middle;\n",
       "    }\n",
       "\n",
       "    .dataframe tbody tr th {\n",
       "        vertical-align: top;\n",
       "    }\n",
       "\n",
       "    .dataframe thead th {\n",
       "        text-align: right;\n",
       "    }\n",
       "</style>\n",
       "<table border=\"1\" class=\"dataframe\">\n",
       "  <thead>\n",
       "    <tr style=\"text-align: right;\">\n",
       "      <th></th>\n",
       "      <th>#R(kpc</th>\n",
       "      <th>V(km/s)</th>\n",
       "      <th>St.dev.</th>\n",
       "      <th>St.error</th>\n",
       "    </tr>\n",
       "  </thead>\n",
       "  <tbody>\n",
       "    <tr>\n",
       "      <th>0</th>\n",
       "      <td>0.100</td>\n",
       "      <td>183.939</td>\n",
       "      <td>0.000</td>\n",
       "      <td>0.000</td>\n",
       "    </tr>\n",
       "    <tr>\n",
       "      <th>1</th>\n",
       "      <td>0.120</td>\n",
       "      <td>190.710</td>\n",
       "      <td>10.265</td>\n",
       "      <td>12.191</td>\n",
       "    </tr>\n",
       "    <tr>\n",
       "      <th>2</th>\n",
       "      <td>0.144</td>\n",
       "      <td>204.141</td>\n",
       "      <td>22.634</td>\n",
       "      <td>21.808</td>\n",
       "    </tr>\n",
       "    <tr>\n",
       "      <th>3</th>\n",
       "      <td>0.173</td>\n",
       "      <td>207.601</td>\n",
       "      <td>4.573</td>\n",
       "      <td>4.200</td>\n",
       "    </tr>\n",
       "    <tr>\n",
       "      <th>4</th>\n",
       "      <td>0.207</td>\n",
       "      <td>210.188</td>\n",
       "      <td>3.943</td>\n",
       "      <td>3.258</td>\n",
       "    </tr>\n",
       "  </tbody>\n",
       "</table>\n",
       "</div>\n",
       "    <div class=\"colab-df-buttons\">\n",
       "\n",
       "  <div class=\"colab-df-container\">\n",
       "    <button class=\"colab-df-convert\" onclick=\"convertToInteractive('df-5b6b1e91-e2aa-41d5-a14a-1b484069771b')\"\n",
       "            title=\"Convert this dataframe to an interactive table.\"\n",
       "            style=\"display:none;\">\n",
       "\n",
       "  <svg xmlns=\"http://www.w3.org/2000/svg\" height=\"24px\" viewBox=\"0 -960 960 960\">\n",
       "    <path d=\"M120-120v-720h720v720H120Zm60-500h600v-160H180v160Zm220 220h160v-160H400v160Zm0 220h160v-160H400v160ZM180-400h160v-160H180v160Zm440 0h160v-160H620v160ZM180-180h160v-160H180v160Zm440 0h160v-160H620v160Z\"/>\n",
       "  </svg>\n",
       "    </button>\n",
       "\n",
       "  <style>\n",
       "    .colab-df-container {\n",
       "      display:flex;\n",
       "      gap: 12px;\n",
       "    }\n",
       "\n",
       "    .colab-df-convert {\n",
       "      background-color: #E8F0FE;\n",
       "      border: none;\n",
       "      border-radius: 50%;\n",
       "      cursor: pointer;\n",
       "      display: none;\n",
       "      fill: #1967D2;\n",
       "      height: 32px;\n",
       "      padding: 0 0 0 0;\n",
       "      width: 32px;\n",
       "    }\n",
       "\n",
       "    .colab-df-convert:hover {\n",
       "      background-color: #E2EBFA;\n",
       "      box-shadow: 0px 1px 2px rgba(60, 64, 67, 0.3), 0px 1px 3px 1px rgba(60, 64, 67, 0.15);\n",
       "      fill: #174EA6;\n",
       "    }\n",
       "\n",
       "    .colab-df-buttons div {\n",
       "      margin-bottom: 4px;\n",
       "    }\n",
       "\n",
       "    [theme=dark] .colab-df-convert {\n",
       "      background-color: #3B4455;\n",
       "      fill: #D2E3FC;\n",
       "    }\n",
       "\n",
       "    [theme=dark] .colab-df-convert:hover {\n",
       "      background-color: #434B5C;\n",
       "      box-shadow: 0px 1px 3px 1px rgba(0, 0, 0, 0.15);\n",
       "      filter: drop-shadow(0px 1px 2px rgba(0, 0, 0, 0.3));\n",
       "      fill: #FFFFFF;\n",
       "    }\n",
       "  </style>\n",
       "\n",
       "    <script>\n",
       "      const buttonEl =\n",
       "        document.querySelector('#df-5b6b1e91-e2aa-41d5-a14a-1b484069771b button.colab-df-convert');\n",
       "      buttonEl.style.display =\n",
       "        google.colab.kernel.accessAllowed ? 'block' : 'none';\n",
       "\n",
       "      async function convertToInteractive(key) {\n",
       "        const element = document.querySelector('#df-5b6b1e91-e2aa-41d5-a14a-1b484069771b');\n",
       "        const dataTable =\n",
       "          await google.colab.kernel.invokeFunction('convertToInteractive',\n",
       "                                                    [key], {});\n",
       "        if (!dataTable) return;\n",
       "\n",
       "        const docLinkHtml = 'Like what you see? Visit the ' +\n",
       "          '<a target=\"_blank\" href=https://colab.research.google.com/notebooks/data_table.ipynb>data table notebook</a>'\n",
       "          + ' to learn more about interactive tables.';\n",
       "        element.innerHTML = '';\n",
       "        dataTable['output_type'] = 'display_data';\n",
       "        await google.colab.output.renderOutput(dataTable, element);\n",
       "        const docLink = document.createElement('div');\n",
       "        docLink.innerHTML = docLinkHtml;\n",
       "        element.appendChild(docLink);\n",
       "      }\n",
       "    </script>\n",
       "  </div>\n",
       "\n",
       "\n",
       "<div id=\"df-8bfd67d7-fe5b-44d3-bc47-a3a4339a4761\">\n",
       "  <button class=\"colab-df-quickchart\" onclick=\"quickchart('df-8bfd67d7-fe5b-44d3-bc47-a3a4339a4761')\"\n",
       "            title=\"Suggest charts.\"\n",
       "            style=\"display:none;\">\n",
       "\n",
       "<svg xmlns=\"http://www.w3.org/2000/svg\" height=\"24px\"viewBox=\"0 0 24 24\"\n",
       "     width=\"24px\">\n",
       "    <g>\n",
       "        <path d=\"M19 3H5c-1.1 0-2 .9-2 2v14c0 1.1.9 2 2 2h14c1.1 0 2-.9 2-2V5c0-1.1-.9-2-2-2zM9 17H7v-7h2v7zm4 0h-2V7h2v10zm4 0h-2v-4h2v4z\"/>\n",
       "    </g>\n",
       "</svg>\n",
       "  </button>\n",
       "\n",
       "<style>\n",
       "  .colab-df-quickchart {\n",
       "      --bg-color: #E8F0FE;\n",
       "      --fill-color: #1967D2;\n",
       "      --hover-bg-color: #E2EBFA;\n",
       "      --hover-fill-color: #174EA6;\n",
       "      --disabled-fill-color: #AAA;\n",
       "      --disabled-bg-color: #DDD;\n",
       "  }\n",
       "\n",
       "  [theme=dark] .colab-df-quickchart {\n",
       "      --bg-color: #3B4455;\n",
       "      --fill-color: #D2E3FC;\n",
       "      --hover-bg-color: #434B5C;\n",
       "      --hover-fill-color: #FFFFFF;\n",
       "      --disabled-bg-color: #3B4455;\n",
       "      --disabled-fill-color: #666;\n",
       "  }\n",
       "\n",
       "  .colab-df-quickchart {\n",
       "    background-color: var(--bg-color);\n",
       "    border: none;\n",
       "    border-radius: 50%;\n",
       "    cursor: pointer;\n",
       "    display: none;\n",
       "    fill: var(--fill-color);\n",
       "    height: 32px;\n",
       "    padding: 0;\n",
       "    width: 32px;\n",
       "  }\n",
       "\n",
       "  .colab-df-quickchart:hover {\n",
       "    background-color: var(--hover-bg-color);\n",
       "    box-shadow: 0 1px 2px rgba(60, 64, 67, 0.3), 0 1px 3px 1px rgba(60, 64, 67, 0.15);\n",
       "    fill: var(--button-hover-fill-color);\n",
       "  }\n",
       "\n",
       "  .colab-df-quickchart-complete:disabled,\n",
       "  .colab-df-quickchart-complete:disabled:hover {\n",
       "    background-color: var(--disabled-bg-color);\n",
       "    fill: var(--disabled-fill-color);\n",
       "    box-shadow: none;\n",
       "  }\n",
       "\n",
       "  .colab-df-spinner {\n",
       "    border: 2px solid var(--fill-color);\n",
       "    border-color: transparent;\n",
       "    border-bottom-color: var(--fill-color);\n",
       "    animation:\n",
       "      spin 1s steps(1) infinite;\n",
       "  }\n",
       "\n",
       "  @keyframes spin {\n",
       "    0% {\n",
       "      border-color: transparent;\n",
       "      border-bottom-color: var(--fill-color);\n",
       "      border-left-color: var(--fill-color);\n",
       "    }\n",
       "    20% {\n",
       "      border-color: transparent;\n",
       "      border-left-color: var(--fill-color);\n",
       "      border-top-color: var(--fill-color);\n",
       "    }\n",
       "    30% {\n",
       "      border-color: transparent;\n",
       "      border-left-color: var(--fill-color);\n",
       "      border-top-color: var(--fill-color);\n",
       "      border-right-color: var(--fill-color);\n",
       "    }\n",
       "    40% {\n",
       "      border-color: transparent;\n",
       "      border-right-color: var(--fill-color);\n",
       "      border-top-color: var(--fill-color);\n",
       "    }\n",
       "    60% {\n",
       "      border-color: transparent;\n",
       "      border-right-color: var(--fill-color);\n",
       "    }\n",
       "    80% {\n",
       "      border-color: transparent;\n",
       "      border-right-color: var(--fill-color);\n",
       "      border-bottom-color: var(--fill-color);\n",
       "    }\n",
       "    90% {\n",
       "      border-color: transparent;\n",
       "      border-bottom-color: var(--fill-color);\n",
       "    }\n",
       "  }\n",
       "</style>\n",
       "\n",
       "  <script>\n",
       "    async function quickchart(key) {\n",
       "      const quickchartButtonEl =\n",
       "        document.querySelector('#' + key + ' button');\n",
       "      quickchartButtonEl.disabled = true;  // To prevent multiple clicks.\n",
       "      quickchartButtonEl.classList.add('colab-df-spinner');\n",
       "      try {\n",
       "        const charts = await google.colab.kernel.invokeFunction(\n",
       "            'suggestCharts', [key], {});\n",
       "      } catch (error) {\n",
       "        console.error('Error during call to suggestCharts:', error);\n",
       "      }\n",
       "      quickchartButtonEl.classList.remove('colab-df-spinner');\n",
       "      quickchartButtonEl.classList.add('colab-df-quickchart-complete');\n",
       "    }\n",
       "    (() => {\n",
       "      let quickchartButtonEl =\n",
       "        document.querySelector('#df-8bfd67d7-fe5b-44d3-bc47-a3a4339a4761 button');\n",
       "      quickchartButtonEl.style.display =\n",
       "        google.colab.kernel.accessAllowed ? 'block' : 'none';\n",
       "    })();\n",
       "  </script>\n",
       "</div>\n",
       "    </div>\n",
       "  </div>\n"
      ],
      "text/plain": [
       "   #R(kpc  V(km/s)  St.dev.  St.error\n",
       "0   0.100  183.939    0.000     0.000\n",
       "1   0.120  190.710   10.265    12.191\n",
       "2   0.144  204.141   22.634    21.808\n",
       "3   0.173  207.601    4.573     4.200\n",
       "4   0.207  210.188    3.943     3.258"
      ]
     },
     "execution_count": 4,
     "metadata": {},
     "output_type": "execute_result"
    }
   ],
   "source": [
    "m31.head()"
   ]
  },
  {
   "cell_type": "code",
   "execution_count": 5,
   "metadata": {
    "id": "argViXwFSjhF"
   },
   "outputs": [],
   "source": [
    "m31.rename({\"#R(kpc\": \"r\",\n",
    "            \"V(km/s)\": \"v\",\n",
    "            \"St.dev.\": \"dv\",\n",
    "            \"St.error\":\"err\"},axis=1,inplace=True)"
   ]
  },
  {
   "cell_type": "code",
   "execution_count": 6,
   "metadata": {
    "colab": {
     "base_uri": "https://localhost:8080/",
     "height": 226
    },
    "id": "X3EY9-_eSyqi",
    "outputId": "fade8109-1ebc-4b64-db4e-cbe1e1fa83a7"
   },
   "outputs": [
    {
     "data": {
      "text/html": [
       "\n",
       "  <div id=\"df-15ef1970-776e-4b30-8c7d-d58ff58283a0\" class=\"colab-df-container\">\n",
       "    <div>\n",
       "<style scoped>\n",
       "    .dataframe tbody tr th:only-of-type {\n",
       "        vertical-align: middle;\n",
       "    }\n",
       "\n",
       "    .dataframe tbody tr th {\n",
       "        vertical-align: top;\n",
       "    }\n",
       "\n",
       "    .dataframe thead th {\n",
       "        text-align: right;\n",
       "    }\n",
       "</style>\n",
       "<table border=\"1\" class=\"dataframe\">\n",
       "  <thead>\n",
       "    <tr style=\"text-align: right;\">\n",
       "      <th></th>\n",
       "      <th>r</th>\n",
       "      <th>v</th>\n",
       "      <th>dv</th>\n",
       "      <th>err</th>\n",
       "    </tr>\n",
       "  </thead>\n",
       "  <tbody>\n",
       "    <tr>\n",
       "      <th>0</th>\n",
       "      <td>0.100</td>\n",
       "      <td>183.939</td>\n",
       "      <td>0.000</td>\n",
       "      <td>0.000</td>\n",
       "    </tr>\n",
       "    <tr>\n",
       "      <th>1</th>\n",
       "      <td>0.120</td>\n",
       "      <td>190.710</td>\n",
       "      <td>10.265</td>\n",
       "      <td>12.191</td>\n",
       "    </tr>\n",
       "    <tr>\n",
       "      <th>2</th>\n",
       "      <td>0.144</td>\n",
       "      <td>204.141</td>\n",
       "      <td>22.634</td>\n",
       "      <td>21.808</td>\n",
       "    </tr>\n",
       "    <tr>\n",
       "      <th>3</th>\n",
       "      <td>0.173</td>\n",
       "      <td>207.601</td>\n",
       "      <td>4.573</td>\n",
       "      <td>4.200</td>\n",
       "    </tr>\n",
       "    <tr>\n",
       "      <th>4</th>\n",
       "      <td>0.207</td>\n",
       "      <td>210.188</td>\n",
       "      <td>3.943</td>\n",
       "      <td>3.258</td>\n",
       "    </tr>\n",
       "  </tbody>\n",
       "</table>\n",
       "</div>\n",
       "    <div class=\"colab-df-buttons\">\n",
       "\n",
       "  <div class=\"colab-df-container\">\n",
       "    <button class=\"colab-df-convert\" onclick=\"convertToInteractive('df-15ef1970-776e-4b30-8c7d-d58ff58283a0')\"\n",
       "            title=\"Convert this dataframe to an interactive table.\"\n",
       "            style=\"display:none;\">\n",
       "\n",
       "  <svg xmlns=\"http://www.w3.org/2000/svg\" height=\"24px\" viewBox=\"0 -960 960 960\">\n",
       "    <path d=\"M120-120v-720h720v720H120Zm60-500h600v-160H180v160Zm220 220h160v-160H400v160Zm0 220h160v-160H400v160ZM180-400h160v-160H180v160Zm440 0h160v-160H620v160ZM180-180h160v-160H180v160Zm440 0h160v-160H620v160Z\"/>\n",
       "  </svg>\n",
       "    </button>\n",
       "\n",
       "  <style>\n",
       "    .colab-df-container {\n",
       "      display:flex;\n",
       "      gap: 12px;\n",
       "    }\n",
       "\n",
       "    .colab-df-convert {\n",
       "      background-color: #E8F0FE;\n",
       "      border: none;\n",
       "      border-radius: 50%;\n",
       "      cursor: pointer;\n",
       "      display: none;\n",
       "      fill: #1967D2;\n",
       "      height: 32px;\n",
       "      padding: 0 0 0 0;\n",
       "      width: 32px;\n",
       "    }\n",
       "\n",
       "    .colab-df-convert:hover {\n",
       "      background-color: #E2EBFA;\n",
       "      box-shadow: 0px 1px 2px rgba(60, 64, 67, 0.3), 0px 1px 3px 1px rgba(60, 64, 67, 0.15);\n",
       "      fill: #174EA6;\n",
       "    }\n",
       "\n",
       "    .colab-df-buttons div {\n",
       "      margin-bottom: 4px;\n",
       "    }\n",
       "\n",
       "    [theme=dark] .colab-df-convert {\n",
       "      background-color: #3B4455;\n",
       "      fill: #D2E3FC;\n",
       "    }\n",
       "\n",
       "    [theme=dark] .colab-df-convert:hover {\n",
       "      background-color: #434B5C;\n",
       "      box-shadow: 0px 1px 3px 1px rgba(0, 0, 0, 0.15);\n",
       "      filter: drop-shadow(0px 1px 2px rgba(0, 0, 0, 0.3));\n",
       "      fill: #FFFFFF;\n",
       "    }\n",
       "  </style>\n",
       "\n",
       "    <script>\n",
       "      const buttonEl =\n",
       "        document.querySelector('#df-15ef1970-776e-4b30-8c7d-d58ff58283a0 button.colab-df-convert');\n",
       "      buttonEl.style.display =\n",
       "        google.colab.kernel.accessAllowed ? 'block' : 'none';\n",
       "\n",
       "      async function convertToInteractive(key) {\n",
       "        const element = document.querySelector('#df-15ef1970-776e-4b30-8c7d-d58ff58283a0');\n",
       "        const dataTable =\n",
       "          await google.colab.kernel.invokeFunction('convertToInteractive',\n",
       "                                                    [key], {});\n",
       "        if (!dataTable) return;\n",
       "\n",
       "        const docLinkHtml = 'Like what you see? Visit the ' +\n",
       "          '<a target=\"_blank\" href=https://colab.research.google.com/notebooks/data_table.ipynb>data table notebook</a>'\n",
       "          + ' to learn more about interactive tables.';\n",
       "        element.innerHTML = '';\n",
       "        dataTable['output_type'] = 'display_data';\n",
       "        await google.colab.output.renderOutput(dataTable, element);\n",
       "        const docLink = document.createElement('div');\n",
       "        docLink.innerHTML = docLinkHtml;\n",
       "        element.appendChild(docLink);\n",
       "      }\n",
       "    </script>\n",
       "  </div>\n",
       "\n",
       "\n",
       "<div id=\"df-3f711660-9d3c-4b2f-bcf3-1803661d3faa\">\n",
       "  <button class=\"colab-df-quickchart\" onclick=\"quickchart('df-3f711660-9d3c-4b2f-bcf3-1803661d3faa')\"\n",
       "            title=\"Suggest charts.\"\n",
       "            style=\"display:none;\">\n",
       "\n",
       "<svg xmlns=\"http://www.w3.org/2000/svg\" height=\"24px\"viewBox=\"0 0 24 24\"\n",
       "     width=\"24px\">\n",
       "    <g>\n",
       "        <path d=\"M19 3H5c-1.1 0-2 .9-2 2v14c0 1.1.9 2 2 2h14c1.1 0 2-.9 2-2V5c0-1.1-.9-2-2-2zM9 17H7v-7h2v7zm4 0h-2V7h2v10zm4 0h-2v-4h2v4z\"/>\n",
       "    </g>\n",
       "</svg>\n",
       "  </button>\n",
       "\n",
       "<style>\n",
       "  .colab-df-quickchart {\n",
       "      --bg-color: #E8F0FE;\n",
       "      --fill-color: #1967D2;\n",
       "      --hover-bg-color: #E2EBFA;\n",
       "      --hover-fill-color: #174EA6;\n",
       "      --disabled-fill-color: #AAA;\n",
       "      --disabled-bg-color: #DDD;\n",
       "  }\n",
       "\n",
       "  [theme=dark] .colab-df-quickchart {\n",
       "      --bg-color: #3B4455;\n",
       "      --fill-color: #D2E3FC;\n",
       "      --hover-bg-color: #434B5C;\n",
       "      --hover-fill-color: #FFFFFF;\n",
       "      --disabled-bg-color: #3B4455;\n",
       "      --disabled-fill-color: #666;\n",
       "  }\n",
       "\n",
       "  .colab-df-quickchart {\n",
       "    background-color: var(--bg-color);\n",
       "    border: none;\n",
       "    border-radius: 50%;\n",
       "    cursor: pointer;\n",
       "    display: none;\n",
       "    fill: var(--fill-color);\n",
       "    height: 32px;\n",
       "    padding: 0;\n",
       "    width: 32px;\n",
       "  }\n",
       "\n",
       "  .colab-df-quickchart:hover {\n",
       "    background-color: var(--hover-bg-color);\n",
       "    box-shadow: 0 1px 2px rgba(60, 64, 67, 0.3), 0 1px 3px 1px rgba(60, 64, 67, 0.15);\n",
       "    fill: var(--button-hover-fill-color);\n",
       "  }\n",
       "\n",
       "  .colab-df-quickchart-complete:disabled,\n",
       "  .colab-df-quickchart-complete:disabled:hover {\n",
       "    background-color: var(--disabled-bg-color);\n",
       "    fill: var(--disabled-fill-color);\n",
       "    box-shadow: none;\n",
       "  }\n",
       "\n",
       "  .colab-df-spinner {\n",
       "    border: 2px solid var(--fill-color);\n",
       "    border-color: transparent;\n",
       "    border-bottom-color: var(--fill-color);\n",
       "    animation:\n",
       "      spin 1s steps(1) infinite;\n",
       "  }\n",
       "\n",
       "  @keyframes spin {\n",
       "    0% {\n",
       "      border-color: transparent;\n",
       "      border-bottom-color: var(--fill-color);\n",
       "      border-left-color: var(--fill-color);\n",
       "    }\n",
       "    20% {\n",
       "      border-color: transparent;\n",
       "      border-left-color: var(--fill-color);\n",
       "      border-top-color: var(--fill-color);\n",
       "    }\n",
       "    30% {\n",
       "      border-color: transparent;\n",
       "      border-left-color: var(--fill-color);\n",
       "      border-top-color: var(--fill-color);\n",
       "      border-right-color: var(--fill-color);\n",
       "    }\n",
       "    40% {\n",
       "      border-color: transparent;\n",
       "      border-right-color: var(--fill-color);\n",
       "      border-top-color: var(--fill-color);\n",
       "    }\n",
       "    60% {\n",
       "      border-color: transparent;\n",
       "      border-right-color: var(--fill-color);\n",
       "    }\n",
       "    80% {\n",
       "      border-color: transparent;\n",
       "      border-right-color: var(--fill-color);\n",
       "      border-bottom-color: var(--fill-color);\n",
       "    }\n",
       "    90% {\n",
       "      border-color: transparent;\n",
       "      border-bottom-color: var(--fill-color);\n",
       "    }\n",
       "  }\n",
       "</style>\n",
       "\n",
       "  <script>\n",
       "    async function quickchart(key) {\n",
       "      const quickchartButtonEl =\n",
       "        document.querySelector('#' + key + ' button');\n",
       "      quickchartButtonEl.disabled = true;  // To prevent multiple clicks.\n",
       "      quickchartButtonEl.classList.add('colab-df-spinner');\n",
       "      try {\n",
       "        const charts = await google.colab.kernel.invokeFunction(\n",
       "            'suggestCharts', [key], {});\n",
       "      } catch (error) {\n",
       "        console.error('Error during call to suggestCharts:', error);\n",
       "      }\n",
       "      quickchartButtonEl.classList.remove('colab-df-spinner');\n",
       "      quickchartButtonEl.classList.add('colab-df-quickchart-complete');\n",
       "    }\n",
       "    (() => {\n",
       "      let quickchartButtonEl =\n",
       "        document.querySelector('#df-3f711660-9d3c-4b2f-bcf3-1803661d3faa button');\n",
       "      quickchartButtonEl.style.display =\n",
       "        google.colab.kernel.accessAllowed ? 'block' : 'none';\n",
       "    })();\n",
       "  </script>\n",
       "</div>\n",
       "    </div>\n",
       "  </div>\n"
      ],
      "text/plain": [
       "       r        v      dv     err\n",
       "0  0.100  183.939   0.000   0.000\n",
       "1  0.120  190.710  10.265  12.191\n",
       "2  0.144  204.141  22.634  21.808\n",
       "3  0.173  207.601   4.573   4.200\n",
       "4  0.207  210.188   3.943   3.258"
      ]
     },
     "execution_count": 6,
     "metadata": {},
     "output_type": "execute_result"
    }
   ],
   "source": [
    "m31.head()"
   ]
  },
  {
   "cell_type": "code",
   "execution_count": 7,
   "metadata": {
    "colab": {
     "base_uri": "https://localhost:8080/",
     "height": 226
    },
    "id": "luL5UrsNQ1M1",
    "outputId": "149152b3-c998-47b9-81d6-7058af37d21b"
   },
   "outputs": [
    {
     "data": {
      "text/html": [
       "\n",
       "  <div id=\"df-d35b62f1-905e-48da-a36d-cbe99cd0ec78\" class=\"colab-df-container\">\n",
       "    <div>\n",
       "<style scoped>\n",
       "    .dataframe tbody tr th:only-of-type {\n",
       "        vertical-align: middle;\n",
       "    }\n",
       "\n",
       "    .dataframe tbody tr th {\n",
       "        vertical-align: top;\n",
       "    }\n",
       "\n",
       "    .dataframe thead th {\n",
       "        text-align: right;\n",
       "    }\n",
       "</style>\n",
       "<table border=\"1\" class=\"dataframe\">\n",
       "  <thead>\n",
       "    <tr style=\"text-align: right;\">\n",
       "      <th></th>\n",
       "      <th>r</th>\n",
       "      <th>v</th>\n",
       "      <th>dv</th>\n",
       "      <th>err</th>\n",
       "    </tr>\n",
       "  </thead>\n",
       "  <tbody>\n",
       "    <tr>\n",
       "      <th>0</th>\n",
       "      <td>0.100</td>\n",
       "      <td>183.939</td>\n",
       "      <td>0.000</td>\n",
       "      <td>0.000</td>\n",
       "    </tr>\n",
       "    <tr>\n",
       "      <th>1</th>\n",
       "      <td>0.120</td>\n",
       "      <td>190.710</td>\n",
       "      <td>10.265</td>\n",
       "      <td>12.191</td>\n",
       "    </tr>\n",
       "    <tr>\n",
       "      <th>2</th>\n",
       "      <td>0.144</td>\n",
       "      <td>204.141</td>\n",
       "      <td>22.634</td>\n",
       "      <td>21.808</td>\n",
       "    </tr>\n",
       "    <tr>\n",
       "      <th>3</th>\n",
       "      <td>0.173</td>\n",
       "      <td>207.601</td>\n",
       "      <td>4.573</td>\n",
       "      <td>4.200</td>\n",
       "    </tr>\n",
       "    <tr>\n",
       "      <th>4</th>\n",
       "      <td>0.207</td>\n",
       "      <td>210.188</td>\n",
       "      <td>3.943</td>\n",
       "      <td>3.258</td>\n",
       "    </tr>\n",
       "  </tbody>\n",
       "</table>\n",
       "</div>\n",
       "    <div class=\"colab-df-buttons\">\n",
       "\n",
       "  <div class=\"colab-df-container\">\n",
       "    <button class=\"colab-df-convert\" onclick=\"convertToInteractive('df-d35b62f1-905e-48da-a36d-cbe99cd0ec78')\"\n",
       "            title=\"Convert this dataframe to an interactive table.\"\n",
       "            style=\"display:none;\">\n",
       "\n",
       "  <svg xmlns=\"http://www.w3.org/2000/svg\" height=\"24px\" viewBox=\"0 -960 960 960\">\n",
       "    <path d=\"M120-120v-720h720v720H120Zm60-500h600v-160H180v160Zm220 220h160v-160H400v160Zm0 220h160v-160H400v160ZM180-400h160v-160H180v160Zm440 0h160v-160H620v160ZM180-180h160v-160H180v160Zm440 0h160v-160H620v160Z\"/>\n",
       "  </svg>\n",
       "    </button>\n",
       "\n",
       "  <style>\n",
       "    .colab-df-container {\n",
       "      display:flex;\n",
       "      gap: 12px;\n",
       "    }\n",
       "\n",
       "    .colab-df-convert {\n",
       "      background-color: #E8F0FE;\n",
       "      border: none;\n",
       "      border-radius: 50%;\n",
       "      cursor: pointer;\n",
       "      display: none;\n",
       "      fill: #1967D2;\n",
       "      height: 32px;\n",
       "      padding: 0 0 0 0;\n",
       "      width: 32px;\n",
       "    }\n",
       "\n",
       "    .colab-df-convert:hover {\n",
       "      background-color: #E2EBFA;\n",
       "      box-shadow: 0px 1px 2px rgba(60, 64, 67, 0.3), 0px 1px 3px 1px rgba(60, 64, 67, 0.15);\n",
       "      fill: #174EA6;\n",
       "    }\n",
       "\n",
       "    .colab-df-buttons div {\n",
       "      margin-bottom: 4px;\n",
       "    }\n",
       "\n",
       "    [theme=dark] .colab-df-convert {\n",
       "      background-color: #3B4455;\n",
       "      fill: #D2E3FC;\n",
       "    }\n",
       "\n",
       "    [theme=dark] .colab-df-convert:hover {\n",
       "      background-color: #434B5C;\n",
       "      box-shadow: 0px 1px 3px 1px rgba(0, 0, 0, 0.15);\n",
       "      filter: drop-shadow(0px 1px 2px rgba(0, 0, 0, 0.3));\n",
       "      fill: #FFFFFF;\n",
       "    }\n",
       "  </style>\n",
       "\n",
       "    <script>\n",
       "      const buttonEl =\n",
       "        document.querySelector('#df-d35b62f1-905e-48da-a36d-cbe99cd0ec78 button.colab-df-convert');\n",
       "      buttonEl.style.display =\n",
       "        google.colab.kernel.accessAllowed ? 'block' : 'none';\n",
       "\n",
       "      async function convertToInteractive(key) {\n",
       "        const element = document.querySelector('#df-d35b62f1-905e-48da-a36d-cbe99cd0ec78');\n",
       "        const dataTable =\n",
       "          await google.colab.kernel.invokeFunction('convertToInteractive',\n",
       "                                                    [key], {});\n",
       "        if (!dataTable) return;\n",
       "\n",
       "        const docLinkHtml = 'Like what you see? Visit the ' +\n",
       "          '<a target=\"_blank\" href=https://colab.research.google.com/notebooks/data_table.ipynb>data table notebook</a>'\n",
       "          + ' to learn more about interactive tables.';\n",
       "        element.innerHTML = '';\n",
       "        dataTable['output_type'] = 'display_data';\n",
       "        await google.colab.output.renderOutput(dataTable, element);\n",
       "        const docLink = document.createElement('div');\n",
       "        docLink.innerHTML = docLinkHtml;\n",
       "        element.appendChild(docLink);\n",
       "      }\n",
       "    </script>\n",
       "  </div>\n",
       "\n",
       "\n",
       "<div id=\"df-4c2251a3-b321-4137-a7d9-f9f7befc59cc\">\n",
       "  <button class=\"colab-df-quickchart\" onclick=\"quickchart('df-4c2251a3-b321-4137-a7d9-f9f7befc59cc')\"\n",
       "            title=\"Suggest charts.\"\n",
       "            style=\"display:none;\">\n",
       "\n",
       "<svg xmlns=\"http://www.w3.org/2000/svg\" height=\"24px\"viewBox=\"0 0 24 24\"\n",
       "     width=\"24px\">\n",
       "    <g>\n",
       "        <path d=\"M19 3H5c-1.1 0-2 .9-2 2v14c0 1.1.9 2 2 2h14c1.1 0 2-.9 2-2V5c0-1.1-.9-2-2-2zM9 17H7v-7h2v7zm4 0h-2V7h2v10zm4 0h-2v-4h2v4z\"/>\n",
       "    </g>\n",
       "</svg>\n",
       "  </button>\n",
       "\n",
       "<style>\n",
       "  .colab-df-quickchart {\n",
       "      --bg-color: #E8F0FE;\n",
       "      --fill-color: #1967D2;\n",
       "      --hover-bg-color: #E2EBFA;\n",
       "      --hover-fill-color: #174EA6;\n",
       "      --disabled-fill-color: #AAA;\n",
       "      --disabled-bg-color: #DDD;\n",
       "  }\n",
       "\n",
       "  [theme=dark] .colab-df-quickchart {\n",
       "      --bg-color: #3B4455;\n",
       "      --fill-color: #D2E3FC;\n",
       "      --hover-bg-color: #434B5C;\n",
       "      --hover-fill-color: #FFFFFF;\n",
       "      --disabled-bg-color: #3B4455;\n",
       "      --disabled-fill-color: #666;\n",
       "  }\n",
       "\n",
       "  .colab-df-quickchart {\n",
       "    background-color: var(--bg-color);\n",
       "    border: none;\n",
       "    border-radius: 50%;\n",
       "    cursor: pointer;\n",
       "    display: none;\n",
       "    fill: var(--fill-color);\n",
       "    height: 32px;\n",
       "    padding: 0;\n",
       "    width: 32px;\n",
       "  }\n",
       "\n",
       "  .colab-df-quickchart:hover {\n",
       "    background-color: var(--hover-bg-color);\n",
       "    box-shadow: 0 1px 2px rgba(60, 64, 67, 0.3), 0 1px 3px 1px rgba(60, 64, 67, 0.15);\n",
       "    fill: var(--button-hover-fill-color);\n",
       "  }\n",
       "\n",
       "  .colab-df-quickchart-complete:disabled,\n",
       "  .colab-df-quickchart-complete:disabled:hover {\n",
       "    background-color: var(--disabled-bg-color);\n",
       "    fill: var(--disabled-fill-color);\n",
       "    box-shadow: none;\n",
       "  }\n",
       "\n",
       "  .colab-df-spinner {\n",
       "    border: 2px solid var(--fill-color);\n",
       "    border-color: transparent;\n",
       "    border-bottom-color: var(--fill-color);\n",
       "    animation:\n",
       "      spin 1s steps(1) infinite;\n",
       "  }\n",
       "\n",
       "  @keyframes spin {\n",
       "    0% {\n",
       "      border-color: transparent;\n",
       "      border-bottom-color: var(--fill-color);\n",
       "      border-left-color: var(--fill-color);\n",
       "    }\n",
       "    20% {\n",
       "      border-color: transparent;\n",
       "      border-left-color: var(--fill-color);\n",
       "      border-top-color: var(--fill-color);\n",
       "    }\n",
       "    30% {\n",
       "      border-color: transparent;\n",
       "      border-left-color: var(--fill-color);\n",
       "      border-top-color: var(--fill-color);\n",
       "      border-right-color: var(--fill-color);\n",
       "    }\n",
       "    40% {\n",
       "      border-color: transparent;\n",
       "      border-right-color: var(--fill-color);\n",
       "      border-top-color: var(--fill-color);\n",
       "    }\n",
       "    60% {\n",
       "      border-color: transparent;\n",
       "      border-right-color: var(--fill-color);\n",
       "    }\n",
       "    80% {\n",
       "      border-color: transparent;\n",
       "      border-right-color: var(--fill-color);\n",
       "      border-bottom-color: var(--fill-color);\n",
       "    }\n",
       "    90% {\n",
       "      border-color: transparent;\n",
       "      border-bottom-color: var(--fill-color);\n",
       "    }\n",
       "  }\n",
       "</style>\n",
       "\n",
       "  <script>\n",
       "    async function quickchart(key) {\n",
       "      const quickchartButtonEl =\n",
       "        document.querySelector('#' + key + ' button');\n",
       "      quickchartButtonEl.disabled = true;  // To prevent multiple clicks.\n",
       "      quickchartButtonEl.classList.add('colab-df-spinner');\n",
       "      try {\n",
       "        const charts = await google.colab.kernel.invokeFunction(\n",
       "            'suggestCharts', [key], {});\n",
       "      } catch (error) {\n",
       "        console.error('Error during call to suggestCharts:', error);\n",
       "      }\n",
       "      quickchartButtonEl.classList.remove('colab-df-spinner');\n",
       "      quickchartButtonEl.classList.add('colab-df-quickchart-complete');\n",
       "    }\n",
       "    (() => {\n",
       "      let quickchartButtonEl =\n",
       "        document.querySelector('#df-4c2251a3-b321-4137-a7d9-f9f7befc59cc button');\n",
       "      quickchartButtonEl.style.display =\n",
       "        google.colab.kernel.accessAllowed ? 'block' : 'none';\n",
       "    })();\n",
       "  </script>\n",
       "</div>\n",
       "    </div>\n",
       "  </div>\n"
      ],
      "text/plain": [
       "       r        v      dv     err\n",
       "0  0.100  183.939   0.000   0.000\n",
       "1  0.120  190.710  10.265  12.191\n",
       "2  0.144  204.141  22.634  21.808\n",
       "3  0.173  207.601   4.573   4.200\n",
       "4  0.207  210.188   3.943   3.258"
      ]
     },
     "execution_count": 7,
     "metadata": {},
     "output_type": "execute_result"
    }
   ],
   "source": [
    "\n",
    "m31.head()"
   ]
  },
  {
   "cell_type": "markdown",
   "metadata": {
    "id": "8nZhqbhvP2UC"
   },
   "source": [
    "# exploratory data analysis\n",
    "proceed with at least a few basic exploratory tasks"
   ]
  },
  {
   "cell_type": "code",
   "execution_count": 8,
   "metadata": {
    "ExecuteTime": {
     "end_time": "2019-08-02T01:35:26.395158Z",
     "start_time": "2019-08-02T01:35:26.373338Z"
    },
    "colab": {
     "base_uri": "https://localhost:8080/",
     "height": 490
    },
    "id": "QsNRokb1OdCh",
    "outputId": "bf2ef0b6-22c3-4d38-ab3b-1690f841ee40",
    "run_control": {
     "frozen": false,
     "read_only": false
    }
   },
   "outputs": [
    {
     "data": {
      "text/plain": [
       "Text(0.5, 0, 'radius (kpc)')"
      ]
     },
     "execution_count": 8,
     "metadata": {},
     "output_type": "execute_result"
    },
    {
     "data": {
      "image/png": "[encoded data removed]",
      "text/plain": [
       "<Figure size 640x480 with 1 Axes>"
      ]
     },
     "metadata": {},
     "output_type": "display_data"
    }
   ],
   "source": [
    "m31[\"r\"].plot(kind=\"hist\", logy=True, title=\"radiuses\")\n",
    "\n",
    "plt.xlabel(\"radius (kpc)\")"
   ]
  },
  {
   "cell_type": "markdown",
   "metadata": {
    "id": "f5VPdWS5T8qA"
   },
   "source": [
    "Figure 1 - exploration of the radiuses present in the data. we can see that there are a lot more at lower frequencies."
   ]
  },
  {
   "cell_type": "code",
   "execution_count": 9,
   "metadata": {
    "colab": {
     "base_uri": "https://localhost:8080/",
     "height": 490
    },
    "id": "7jzKROBzUS_C",
    "outputId": "2f38cff8-4878-4d23-f056-f17bdae66c08"
   },
   "outputs": [
    {
     "data": {
      "text/plain": [
       "Text(0.5, 0, 'velocity (km/s)')"
      ]
     },
     "execution_count": 9,
     "metadata": {},
     "output_type": "execute_result"
    },
    {
     "data": {
      "image/png": "[encoded data removed]",
      "text/plain": [
       "<Figure size 640x480 with 1 Axes>"
      ]
     },
     "metadata": {},
     "output_type": "display_data"
    }
   ],
   "source": [
    "m31[\"v\"].plot(kind=\"hist\", logy=True, title=\"velocities\")\n",
    "\n",
    "plt.xlabel(\"velocity (km/s)\")"
   ]
  },
  {
   "cell_type": "markdown",
   "metadata": {
    "id": "jWmP87OvUaKd"
   },
   "source": [
    "Figure 2 - exploration of the velocities present in the data. we can see that there are a lot in the middle velocity range and only a couple at higher velocities."
   ]
  },
  {
   "cell_type": "code",
   "execution_count": 10,
   "metadata": {
    "colab": {
     "base_uri": "https://localhost:8080/",
     "height": 490
    },
    "id": "Hqab2ClEUjv_",
    "outputId": "ed0a019c-c034-46bb-a841-ebecad8e28fc"
   },
   "outputs": [
    {
     "data": {
      "text/plain": [
       "Text(0.5, 0, 'standard deviation')"
      ]
     },
     "execution_count": 10,
     "metadata": {},
     "output_type": "execute_result"
    },
    {
     "data": {
      "image/png": "[encoded data removed]",
      "text/plain": [
       "<Figure size 640x480 with 1 Axes>"
      ]
     },
     "metadata": {},
     "output_type": "display_data"
    }
   ],
   "source": [
    "m31[\"dv\"].plot(kind=\"hist\", logy=True, title=\"dv\")\n",
    "\n",
    "plt.xlabel(\"standard deviation\")"
   ]
  },
  {
   "cell_type": "markdown",
   "metadata": {
    "id": "YU1ETpOiUs-7"
   },
   "source": [
    "Figure 3 - exploration of the errors from the HII line present in the data. there is a good range, with a weird empty gap in the middle."
   ]
  },
  {
   "cell_type": "code",
   "execution_count": 11,
   "metadata": {
    "colab": {
     "base_uri": "https://localhost:8080/",
     "height": 490
    },
    "id": "BKSAkPl3U3nG",
    "outputId": "bc966029-10fd-4419-8384-42afbd45245a"
   },
   "outputs": [
    {
     "data": {
      "text/plain": [
       "Text(0.5, 0, 'total err')"
      ]
     },
     "execution_count": 11,
     "metadata": {},
     "output_type": "execute_result"
    },
    {
     "data": {
      "image/png": "[encoded data removed]",
      "text/plain": [
       "<Figure size 640x480 with 1 Axes>"
      ]
     },
     "metadata": {},
     "output_type": "display_data"
    }
   ],
   "source": [
    "m31[\"err\"].plot(kind=\"hist\", logy=True, title=\"total err\")\n",
    "\n",
    "plt.xlabel(\"total err\")"
   ]
  },
  {
   "cell_type": "markdown",
   "metadata": {
    "id": "OSv4RhZ5U_Hf"
   },
   "source": [
    "Figure 4 - exploration of the total errors present in the data. The range is lower than the velocity errors"
   ]
  },
  {
   "cell_type": "code",
   "execution_count": 12,
   "metadata": {
    "colab": {
     "base_uri": "https://localhost:8080/",
     "height": 472
    },
    "id": "D8QcL96iVMfa",
    "outputId": "b97e596a-7ede-4596-9165-78ca0224da46"
   },
   "outputs": [
    {
     "data": {
      "image/png": "[encoded data removed]",
      "text/plain": [
       "<Figure size 640x480 with 1 Axes>"
      ]
     },
     "metadata": {},
     "output_type": "display_data"
    }
   ],
   "source": [
    "plt.errorbar(m31[\"r\"], m31[\"v\"], m31[\"dv\"])\n",
    "plt.errorbar(m31[\"r\"], m31[\"v\"], m31[\"err\"])\n",
    "plt.title(\"initial plot - radius vs velocity\")\n",
    "plt.xlabel(\"radius (kpc)\")\n",
    "plt.ylabel(\"velocity (km/s)\")\n",
    "plt.legend([\"dv\",\"err\"])\n",
    "plt.show()"
   ]
  },
  {
   "cell_type": "markdown",
   "metadata": {
    "id": "4YraoU41X84l"
   },
   "source": [
    "Figure 5 - here i have plotted all the data that we have. we can see the velocity trending upward with radius, and the errors are a pretty sizeable percentage of the velocity. the dv error is larger than the total error, interestingly."
   ]
  },
  {
   "cell_type": "markdown",
   "metadata": {
    "id": "Vv0Ut6vOOdCk",
    "run_control": {
     "frozen": false,
     "read_only": false
    }
   },
   "source": [
    "from https://en.wikipedia.org/wiki/Andromeda_Galaxy get the extent of the luminous component of M31 (Andromeda). The distance of the Galaxy multiplied by the angular size will give you this information from basic trigonometry (make sure you convert the units properly, using astropy). Make sure you include the uncertainties! uncertainties in the distance will give you the uncertainty in the size\n",
    "   \n"
   ]
  },
  {
   "cell_type": "code",
   "execution_count": 13,
   "metadata": {
    "id": "kvIFr6D778ri"
   },
   "outputs": [],
   "source": [
    "#angular size of the galaxy from wikipedia: 3.167 degree x 1 degree\n",
    "#765 +- 28 kpc is the distance to m31 from the paper linked on wikipedia:\n",
    "#Riess et al \"Cepheid Period-Luminosity Relations in the Near-Infrared and the Distance to M31 from Thehubble Space Telescopewide Field Camera 3\" 2012\n",
    "\n",
    "apparentSizeM31 = 3.167\n"
   ]
  },
  {
   "cell_type": "code",
   "execution_count": 14,
   "metadata": {
    "ExecuteTime": {
     "end_time": "2019-08-02T01:35:41.413407Z",
     "start_time": "2019-08-02T01:35:41.408764Z"
    },
    "colab": {
     "base_uri": "https://localhost:8080/"
    },
    "id": "tzGNh98hOdCl",
    "outputId": "b9217fa4-26ea-4e8c-941d-33751b9eb80b",
    "run_control": {
     "frozen": false,
     "read_only": false
    }
   },
   "outputs": [
    {
     "name": "stdout",
     "output_type": "stream",
     "text": [
      "Angular Size of the visible component of Andromeda: 0.0553 rad\n"
     ]
    }
   ],
   "source": [
    "# note : by PEP8 standards the import should be at the top, I leave it here for hyou to see that I am using astropy.units now\n",
    "from astropy import units as u\n",
    "m31angS = apparentSizeM31 * u.degree\n",
    "print(\"Angular Size of the visible component of Andromeda: {:.4f}\".format(m31angS.to(u.rad)  ))"
   ]
  },
  {
   "cell_type": "markdown",
   "metadata": {
    "id": "cOw0Y4KNWTOZ"
   },
   "source": [
    "Please make sure you print a sensible number of decimal digits! you have a  number of significant digits set by the number of digit in the info you get from wikipedia"
   ]
  },
  {
   "cell_type": "markdown",
   "metadata": {
    "id": "hF2wXZ988QgS"
   },
   "source": [
    "The distance, from Wikipedia, will have an uncertainty. Convert both to kiloparsecs Kpc"
   ]
  },
  {
   "cell_type": "code",
   "execution_count": 15,
   "metadata": {
    "ExecuteTime": {
     "end_time": "2019-08-02T01:35:42.257553Z",
     "start_time": "2019-08-02T01:35:42.254539Z"
    },
    "id": "7-nEP6KrOdCo",
    "run_control": {
     "frozen": false,
     "read_only": false
    }
   },
   "outputs": [],
   "source": [
    "m31Size = 765\n",
    "m31SizeError = 28"
   ]
  },
  {
   "cell_type": "code",
   "execution_count": 16,
   "metadata": {
    "ExecuteTime": {
     "end_time": "2019-08-02T01:35:42.815232Z",
     "start_time": "2019-08-02T01:35:42.810316Z"
    },
    "colab": {
     "base_uri": "https://localhost:8080/"
    },
    "id": "0y_V9AuFOdCv",
    "outputId": "55f5bb65-c546-4e97-a135-c8790cfd0ed9",
    "run_control": {
     "frozen": false,
     "read_only": false
    }
   },
   "outputs": [
    {
     "name": "stdout",
     "output_type": "stream",
     "text": [
      "Distance to the visible component of Andromeda: 765 +/- 28 kpc\n"
     ]
    }
   ],
   "source": [
    "print(\"Distance to the visible component of Andromeda: \" +\n",
    "      r\"{:.0f} +/- {:2.0f}\".format(m31Size, m31SizeError)+\" kpc\")#, m31SizeError\n"
   ]
  },
  {
   "cell_type": "markdown",
   "metadata": {
    "id": "_pTXgdTL8jv6"
   },
   "source": [
    "Print the distance like I printed the angular size.\n",
    "\n",
    "To get the physical size of the visible component of andtomeda you can use simple trigonometry: $y = r * sin(\\alpha) ~ \\sim ~ r \\alpha $ for small angles\n",
    "\n",
    "\n",
    "Print the physical size of the Andromeda galaxy (remember decimal digits, proper formatting etc etc).\n"
   ]
  },
  {
   "cell_type": "code",
   "execution_count": 17,
   "metadata": {
    "colab": {
     "base_uri": "https://localhost:8080/"
    },
    "id": "X_Su2NaSbNb9",
    "outputId": "bb193756-6009-45ca-8e7e-2fa7d7f7dd04"
   },
   "outputs": [
    {
     "name": "stdout",
     "output_type": "stream",
     "text": [
      "Physical size of the visible component of Andromeda: 42.3 +/- 1.5 kpc\n"
     ]
    }
   ],
   "source": [
    "phys_size = m31Size*m31angS.to(u.rad)/u.rad\n",
    "phys_size_err = m31SizeError*m31angS.to(u.rad)/u.rad\n",
    "print(\"Physical size of the visible component of Andromeda: \" +\n",
    "      r\"{:.1f} +/- {:2.1f}\".format(phys_size, phys_size_err)+\" kpc\")"
   ]
  },
  {
   "cell_type": "code",
   "execution_count": 18,
   "metadata": {
    "colab": {
     "base_uri": "https://localhost:8080/"
    },
    "id": "UxXUj_ta7OI_",
    "outputId": "eb799a69-b22b-4910-858b-7707a96c8954"
   },
   "outputs": [
    {
     "name": "stdout",
     "output_type": "stream",
     "text": [
      "Physical radius of the visible component of Andromeda: 21.1 +/- 0.8 kpc\n"
     ]
    }
   ],
   "source": [
    "#and i almost forgot to convert this to the radius...\n",
    "m31_phys_rad = (m31Size/2)*m31angS.to(u.rad)/u.rad\n",
    "m31_phys_rad_err = (m31SizeError/2)*m31angS.to(u.rad)/u.rad\n",
    "print(\"Physical radius of the visible component of Andromeda: \" +\n",
    "      r\"{:.1f} +/- {:2.1f}\".format(m31_phys_rad, m31_phys_rad_err)+\" kpc\")"
   ]
  },
  {
   "cell_type": "markdown",
   "metadata": {
    "id": "97o52hRhOdCy",
    "run_control": {
     "frozen": false,
     "read_only": false
    }
   },
   "source": [
    "### find the first measurement  in your data table that includes all the luminous mass.\n",
    "\n",
    "What is the smallest radius in your data where the luminous mass is completely included and what is the veolcity at that radius?\n",
    "You can do it by broadcasting (see homework 3)"
   ]
  },
  {
   "cell_type": "code",
   "execution_count": 19,
   "metadata": {
    "ExecuteTime": {
     "end_time": "2019-08-02T02:10:47.943179Z",
     "start_time": "2019-08-02T02:10:47.937541Z"
    },
    "colab": {
     "base_uri": "https://localhost:8080/"
    },
    "id": "JF31dWaBOdCz",
    "outputId": "f982213d-e334-4e36-fd36-ad6078a2fb99",
    "run_control": {
     "frozen": false,
     "read_only": false
    }
   },
   "outputs": [
    {
     "name": "stdout",
     "output_type": "stream",
     "text": [
      "           r        v       dv     err\n",
      "30    23.738  236.511   11.729   1.580\n",
      "31    28.485  232.335   16.577   2.106\n",
      "32    34.182  233.530   27.353   3.826\n",
      "33    41.019  230.444   52.432   9.815\n",
      "34    49.222  237.069  109.381  23.924\n",
      "35    59.067  249.443  134.552  26.447\n",
      "36    70.880  218.489  132.355  24.657\n",
      "37    85.056  206.603  135.003  27.258\n",
      "38   102.068  213.002  132.456  29.321\n",
      "39   122.481  197.383  105.727  23.358\n",
      "40   146.977  177.521   81.762  16.662\n",
      "41   176.373  165.325   74.652  15.706\n",
      "42   211.647  165.134   76.929  18.733\n",
      "43   253.977  160.787   77.400  22.720\n",
      "44   304.772  151.102   74.793  27.879\n",
      "45   365.727  121.974   96.480  43.431\n",
      "46   438.872  168.303  125.736  51.482\n",
      "47   526.647  200.545  123.350  52.949\n",
      "48   631.976  238.973  147.835  36.195\n",
      "49   758.371  248.069  145.005  19.716\n",
      "50   910.046  250.377  141.353  22.663\n",
      "51  1092.055  241.900  138.657  39.031\n",
      "52  1310.466  235.039  103.480  46.508\n",
      "53  1572.559  332.734  109.504  54.110\n",
      "54  1887.071  414.942   69.579  27.931\n"
     ]
    }
   ],
   "source": [
    "#all the luminos mass is included within 42.3 kpc so...\n",
    "print(m31[m31[\"r\"]>m31_phys_rad])"
   ]
  },
  {
   "cell_type": "markdown",
   "metadata": {
    "id": "kiMLIrB0dhl8"
   },
   "source": [
    "The smallest radius in the data where the luminous mass is completely included is 49.2 kpc. The velocity at that radius is 237 km/s."
   ]
  },
  {
   "cell_type": "markdown",
   "metadata": {
    "id": "TVWiU84XOdDA",
    "run_control": {
     "frozen": false,
     "read_only": false
    }
   },
   "source": [
    "We expect the velocity to decrease as 1/r if all mass is included: the velocity at a radius twice as far as the radius that includes all the mass should be a factor 2 slower, three times as far a factor 3 slower."
   ]
  },
  {
   "cell_type": "markdown",
   "metadata": {
    "id": "b096Ax33SiXl"
   },
   "source": [
    "write a function that\n",
    "\n",
    "1. finds the smallest radius in the dataset that is at least N times the radius of the visible galaxy,\n",
    "\n",
    "2. takes as arguments:\n",
    "    - the data and\n",
    "    - N\n",
    "    - the size of the luminous component of the galaxy\n",
    "\n",
    "2. Returns the value of the radius and its uncertainty and the velocity and its uncertainty"
   ]
  },
  {
   "cell_type": "code",
   "execution_count": 20,
   "metadata": {
    "ExecuteTime": {
     "end_time": "2019-08-02T02:07:26.053511Z",
     "start_time": "2019-08-02T02:07:26.046677Z"
    },
    "id": "-_O34Bb7OdC2",
    "run_control": {
     "frozen": false,
     "read_only": false
    }
   },
   "outputs": [],
   "source": [
    "# first measurement including all mass\n",
    "def getradii(data, N, size):\n",
    "  '''\n",
    "  this function finds the smallest radius in the dataset that is at least N times the radius of the visible galaxy\n",
    "  data: our dataset which is a pandas dataframe\n",
    "  N: multiplicative factor\n",
    "  size: physical size of the luminos component of the galaxy\n",
    "  returns: value of the radius, value of the velocity, velocity error, total error\n",
    "  '''\n",
    "  cutarray = (data[data[\"r\"]>=N*size])\n",
    "  #print(cutarray.iloc[0])\n",
    "  r, v, dv, err = cutarray.iloc[0]\n",
    "  return r, v, dv, err"
   ]
  },
  {
   "cell_type": "code",
   "execution_count": 21,
   "metadata": {
    "colab": {
     "base_uri": "https://localhost:8080/"
    },
    "id": "8K7XINK2gKLO",
    "outputId": "ca4f5112-b55c-47c5-fdfa-7fc01c6a7ce5"
   },
   "outputs": [
    {
     "data": {
      "text/plain": [
       "(23.738, 236.511, 11.729, 1.58)"
      ]
     },
     "execution_count": 21,
     "metadata": {},
     "output_type": "execute_result"
    }
   ],
   "source": [
    "getradii(m31, 1, m31_phys_rad)"
   ]
  },
  {
   "cell_type": "markdown",
   "metadata": {
    "ExecuteTime": {
     "end_time": "2019-08-01T18:13:58.231637Z",
     "start_time": "2019-08-01T18:13:58.229447Z"
    },
    "id": "ogu_iquzOdC5",
    "run_control": {
     "frozen": false,
     "read_only": false
    }
   },
   "source": [
    "### data visualization"
   ]
  },
  {
   "cell_type": "markdown",
   "metadata": {
    "id": "kJ6MujVJUyel"
   },
   "source": [
    "make a plot that shows\n",
    "\n",
    "1. the rotational curve of the galaxy (as a line)\n",
    "\n",
    "2. each velocity as an errorbar with error equal to err in the same color as the line in 1\n",
    "\n",
    "3. each velocity as an errorbar with error equal to dv in  the same color but a different line thickness\n",
    "\n",
    "\n",
    "4. the datapoint corresponding to N=1, 2, 3 each in a different color.\n",
    "\n",
    "5. add a legend that indicates the meaning of each color (```pl.legend()```)\n",
    "\n",
    "6. add a text that indicates the velocity and its uncertainty (dv and err) just below the largest errorbar (```pl.text()```)\n",
    "\n",
    "7. limit the x axis to the \"relevant\" portion of the data"
   ]
  },
  {
   "cell_type": "code",
   "execution_count": 22,
   "metadata": {
    "id": "zANgekHai7eo"
   },
   "outputs": [],
   "source": [
    "plt.text?"
   ]
  },
  {
   "cell_type": "code",
   "execution_count": 23,
   "metadata": {
    "colab": {
     "base_uri": "https://localhost:8080/",
     "height": 472
    },
    "id": "OAQVgFMHhUGp",
    "outputId": "b2896be8-280a-4549-97aa-eb721dbcb480"
   },
   "outputs": [
    {
     "data": {
      "image/png": "[encoded data removed]",
      "text/plain": [
       "<Figure size 640x480 with 1 Axes>"
      ]
     },
     "metadata": {},
     "output_type": "display_data"
    }
   ],
   "source": [
    "r1, v1, dv1, err1 = getradii(m31, 1, m31_phys_rad)\n",
    "r2, v2, dv2, err2 = getradii(m31, 2, m31_phys_rad)\n",
    "r3, v3, dv3, err3 = getradii(m31, 3, m31_phys_rad)\n",
    "plt.errorbar(m31[\"r\"], m31[\"v\"], m31[\"dv\"], color=\"orange\")\n",
    "plt.errorbar(m31[\"r\"], m31[\"v\"], m31[\"err\"], linewidth=4, color=\"orange\")\n",
    "plt.errorbar(x=r1, y=v1, yerr=dv1, color=\"r\")\n",
    "plt.errorbar(x=r2, y=v2, yerr=dv2, color=\"g\")\n",
    "plt.errorbar(x=r3, y=v3, yerr=dv3, color=\"b\")\n",
    "plt.text(x=r1, y=v1-dv1-43,\n",
    "         s=str(v1)+\"\\n\"+r\"(dv = {:.0f}, err = {:.0f}\".format(dv1, err1)+\")\",\n",
    "         horizontalalignment=\"center\")\n",
    "plt.text(x=r2, y=v2-dv2-23,\n",
    "         s=str(v2)+\"\\n\"+r\"(dv = {:.0f}, err = {:.0f}\".format(dv2, err2)+\")\",\n",
    "         horizontalalignment=\"center\")\n",
    "plt.text(x=r3, y=v3-dv3-43,\n",
    "         s=str(v3)+\"\\n\"+r\"(dv = {:.0f}, err = {:.0f}\".format(dv3, err3)+\")\",\n",
    "         horizontalalignment=\"center\")\n",
    "plt.title(\"andromeda radius vs velocity\")\n",
    "plt.xlabel(\"radius (kpc)\")\n",
    "plt.ylabel(\"velocity (km/s)\")\n",
    "plt.legend([\"dv\",\"err\", \"radius\", \"2xradius\", \"3xradius\"])\n",
    "plt.xlim(0,130)\n",
    "plt.show()"
   ]
  },
  {
   "cell_type": "markdown",
   "metadata": {
    "id": "LCRU4nF7q3ia"
   },
   "source": [
    "Figure 6 - Here we have a plot of radius vs velocity with both errors plotted, and we can see that dv is much larger than err. We can also see both errors increase at higher radiuses. The velocity barely drops after the edge of the luminous size of the galaxy (marked in red), unlike our naive expectations for keplerian motion. However, an analytical investigation is necessary to figure out whether the large error bars mean that these measurements are within the error for keplerian motion or not."
   ]
  },
  {
   "cell_type": "markdown",
   "metadata": {
    "id": "bIbv3YrhTo0X"
   },
   "source": [
    "Write a function that for a given dataset and a given luminous radius and a given N\n",
    "  \n",
    "  1) uses the function above to find the radius at least as large as needed and the velocity at that radius,\n",
    "  \n",
    "  2) states the expected drop in rotational velocities according to Newton's law $v\\propto 1/r$\n",
    "  \n",
    "  3) calculates the ratio of radii and the ratio of velocities at N radii from the center N=1 and N=N (input, e.g. 2, 3 etc) with uncertainties,\n",
    "  \n",
    "  4) and stated whether that ratio is consistent within the uncertainties with Newton's law $v \\propto 1/r$\n",
    "  \n",
    "Your function should print\n",
    "\n",
    "     - the expected ratio based on the radii,\n",
    "     - the calculated ratio using ```dv```, and its uncertainty, -\n",
    "     - the 2-$\\sigma$ upper and lower limits of the calculated ratio\n",
    "     - whether the expected ratio is within the $2-\\sigma$ of the calculated ratio,\n",
    "  5) and the same using ```err```  instead of ```dv```"
   ]
  },
  {
   "cell_type": "code",
   "execution_count": 48,
   "metadata": {
    "ExecuteTime": {
     "end_time": "2019-08-02T02:22:18.485172Z",
     "start_time": "2019-08-02T02:22:18.477807Z"
    },
    "id": "1hhTw8N4OdDB",
    "run_control": {
     "frozen": false,
     "read_only": false
    }
   },
   "outputs": [],
   "source": [
    "def vratios(dataset, radius, N, err='dv'):\n",
    "  '''\n",
    "  this function will print a number of things related to\n",
    "  rotational velocities of the galactic dataset.\n",
    "  data: our dataset which is a pandas dataframe\n",
    "  radius: physical size of the luminous component of the galaxy\n",
    "  N: multiplicative factor\n",
    "  err: whether you want your answers based off \"err\" or \"dv\"\n",
    "  (those are the only two possibilities)\n",
    "  returns none\n",
    "  '''\n",
    "  r, v, dv, err1 = getradii(dataset, N, radius)\n",
    "  #to figure out what the velocity here would be,\n",
    "  #we have to use a proportionality with the radius and velocity at the visible edge\n",
    "  r0, v0, dv0, err0 = getradii(dataset, 1, radius)\n",
    "  #we know that v1/v0=(sqrt(1/r1))/(sqrt(1/r0))=sqrt(r0/r1)\n",
    "\n",
    "  ratio = np.sqrt(r0/r)\n",
    "\n",
    "  # wrongv = v0*ratio\n",
    "  word=\"help\" #just resetting it\n",
    "\n",
    "  #now we also need error\n",
    "  if err==\"err\":\n",
    "    verr = err1\n",
    "    v0err = err0\n",
    "  elif err==\"dv\":\n",
    "    verr = dv1\n",
    "    v0err = dv0\n",
    "  else:\n",
    "    print(\"Error: please choose err or dv\")\n",
    "    return\n",
    "\n",
    "  #now let's see what the actual ratio of velocities is\n",
    "  realvrat=v/v0\n",
    "  #error propagation\n",
    "  realvrat_error = realvrat*np.sqrt(((verr/v)**2)+((v0err/v0)**2))\n",
    "\n",
    "  #now to determine whether it is consistent\n",
    "  diffup = realvrat + 2*realvrat_error\n",
    "  diffdown = realvrat - 2*realvrat_error\n",
    "  if ratio > diffup or ratio < diffdown:\n",
    "    word=\"is not\"\n",
    "  elif ratio < diffup and ratio > diffdown:\n",
    "    word = \"is\"\n",
    "  else:\n",
    "    print(\"help!\")\n",
    "    return\n",
    "\n",
    "  print(r\"at {:.0f} kpc, which is {:.0f}x the physical size\".format(r, N))\n",
    "  print(\"of the luminous component of the galaxy, under Newtonian dynamics\")\n",
    "  print(r\"we would expect the velocity to be sqrt(R0/R) = {:.2f} x the velocity at R0.\".format(ratio))\n",
    "  print(\"However, in reality the velocity is {:.2f} +/- {:.2f} x the velocity at R0.\".format(realvrat, realvrat_error))\n",
    "  print(r\"The two-sigma upper limit of the real velocity ratio is {:.2f} and\".format(diffup))\n",
    "  print(r\"and the two-sigma lower limit of the real velocity ratio is {:.2f}.\".format(diffdown))\n",
    "  print(\"This ratio \"+word+\" consistent within two sigma of the expected ratio from Newton's law.\")"
   ]
  },
  {
   "cell_type": "code",
   "execution_count": 49,
   "metadata": {
    "ExecuteTime": {
     "end_time": "2019-08-02T02:22:20.233692Z",
     "start_time": "2019-08-02T02:22:20.225631Z"
    },
    "colab": {
     "base_uri": "https://localhost:8080/"
    },
    "id": "8TPkTIthOdDI",
    "outputId": "19911ed9-5c01-4dd2-f103-b3870e09ce73",
    "run_control": {
     "frozen": false,
     "read_only": false
    }
   },
   "outputs": [
    {
     "name": "stdout",
     "output_type": "stream",
     "text": [
      "at 24 kpc, which is 1x the physical size\n",
      "of the luminous component of the galaxy, under Newtonian dynamics\n",
      "we would expect the velocity to be sqrt(R0/R) = 1.00 x the velocity at R0.\n",
      "However, in reality the velocity is 1.00 +/- 0.18 x the velocity at R0.\n",
      "The two-sigma upper limit of the real velocity ratio is 1.37 and\n",
      "and the two-sigma lower limit of the real velocity ratio is 0.63.\n",
      "This ratio is consistent within two sigma of the expected ratio from Newton's law.\n",
      "\n",
      " \n",
      " \n",
      "\n",
      "at 24 kpc, which is 1x the physical size\n",
      "of the luminous component of the galaxy, under Newtonian dynamics\n",
      "we would expect the velocity to be sqrt(R0/R) = 1.00 x the velocity at R0.\n",
      "However, in reality the velocity is 1.00 +/- 0.01 x the velocity at R0.\n",
      "The two-sigma upper limit of the real velocity ratio is 1.02 and\n",
      "and the two-sigma lower limit of the real velocity ratio is 0.98.\n",
      "This ratio is consistent within two sigma of the expected ratio from Newton's law.\n"
     ]
    }
   ],
   "source": [
    "vratios(m31, m31_phys_rad, 1)\n",
    "\n",
    "print(\"\\n \\n \\n\")\n",
    "\n",
    "vratios(m31, m31_phys_rad, 1, err='err')"
   ]
  },
  {
   "cell_type": "code",
   "execution_count": 52,
   "metadata": {
    "ExecuteTime": {
     "end_time": "2019-08-02T02:22:26.272266Z",
     "start_time": "2019-08-02T02:22:26.263760Z"
    },
    "colab": {
     "base_uri": "https://localhost:8080/"
    },
    "id": "XeQoBcM7OdDP",
    "outputId": "1d4eed59-0e5a-4379-ee83-163f2c183b8c",
    "run_control": {
     "frozen": false,
     "read_only": false
    }
   },
   "outputs": [
    {
     "name": "stdout",
     "output_type": "stream",
     "text": [
      "at 49 kpc, which is 2x the physical size\n",
      "of the luminous component of the galaxy, under Newtonian dynamics\n",
      "we would expect the velocity to be sqrt(R0/R) = 0.69 x the velocity at R0.\n",
      "However, in reality the velocity is 1.00 +/- 0.18 x the velocity at R0.\n",
      "The two-sigma upper limit of the real velocity ratio is 1.37 and\n",
      "and the two-sigma lower limit of the real velocity ratio is 0.63.\n",
      "This ratio is consistent within two sigma of the expected ratio from Newton's law.\n"
     ]
    }
   ],
   "source": [
    "vratios(m31, m31_phys_rad, 2)"
   ]
  },
  {
   "cell_type": "code",
   "execution_count": 53,
   "metadata": {
    "ExecuteTime": {
     "end_time": "2019-08-02T02:24:18.604569Z",
     "start_time": "2019-08-02T02:24:18.596278Z"
    },
    "colab": {
     "base_uri": "https://localhost:8080/"
    },
    "id": "Stigi9P_OdDW",
    "outputId": "2f515f47-9c8d-4552-ae4c-ff5532ec8fa3",
    "run_control": {
     "frozen": false,
     "read_only": false
    }
   },
   "outputs": [
    {
     "name": "stdout",
     "output_type": "stream",
     "text": [
      "at 49 kpc, which is 2x the physical size\n",
      "of the luminous component of the galaxy, under Newtonian dynamics\n",
      "we would expect the velocity to be sqrt(R0/R) = 0.69 x the velocity at R0.\n",
      "However, in reality the velocity is 1.00 +/- 0.10 x the velocity at R0.\n",
      "The two-sigma upper limit of the real velocity ratio is 1.21 and\n",
      "and the two-sigma lower limit of the real velocity ratio is 0.80.\n",
      "This ratio is not consistent within two sigma of the expected ratio from Newton's law.\n"
     ]
    }
   ],
   "source": [
    "vratios(m31, m31_phys_rad, 2, err='err')"
   ]
  },
  {
   "cell_type": "code",
   "execution_count": 54,
   "metadata": {
    "colab": {
     "base_uri": "https://localhost:8080/"
    },
    "id": "Ff4jbdfp0Way",
    "outputId": "2f6a598a-ea4f-4d84-9f9e-2556c62565d2"
   },
   "outputs": [
    {
     "name": "stdout",
     "output_type": "stream",
     "text": [
      "at 71 kpc, which is 3x the physical size\n",
      "of the luminous component of the galaxy, under Newtonian dynamics\n",
      "we would expect the velocity to be sqrt(R0/R) = 0.58 x the velocity at R0.\n",
      "However, in reality the velocity is 0.92 +/- 0.18 x the velocity at R0.\n",
      "The two-sigma upper limit of the real velocity ratio is 1.29 and\n",
      "and the two-sigma lower limit of the real velocity ratio is 0.56.\n",
      "This ratio is consistent within two sigma of the expected ratio from Newton's law.\n",
      "\n",
      " \n",
      " \n",
      "\n",
      "at 71 kpc, which is 3x the physical size\n",
      "of the luminous component of the galaxy, under Newtonian dynamics\n",
      "we would expect the velocity to be sqrt(R0/R) = 0.58 x the velocity at R0.\n",
      "However, in reality the velocity is 0.92 +/- 0.10 x the velocity at R0.\n",
      "The two-sigma upper limit of the real velocity ratio is 1.13 and\n",
      "and the two-sigma lower limit of the real velocity ratio is 0.71.\n",
      "This ratio is not consistent within two sigma of the expected ratio from Newton's law.\n"
     ]
    }
   ],
   "source": [
    "vratios(m31, m31_phys_rad, 3)\n",
    "\n",
    "print(\"\\n \\n \\n\")\n",
    "\n",
    "vratios(m31, m31_phys_rad, 3, err='err')"
   ]
  },
  {
   "cell_type": "markdown",
   "metadata": {
    "ExecuteTime": {
     "end_time": "2019-08-02T00:36:41.637045Z",
     "start_time": "2019-08-02T00:36:41.634825Z"
    },
    "id": "6me5k4c1OdDY",
    "run_control": {
     "frozen": false,
     "read_only": false
    }
   },
   "source": [
    "### Discuss!"
   ]
  },
  {
   "cell_type": "markdown",
   "metadata": {
    "id": "f-KWxtaR0BYA"
   },
   "source": [
    "At 2x and 3x the radius of the edge of the luminous part of m31, keplerian motion breaks down if we use the stadard error for the data. One likely reason is dark matter in m31. However, if we only look at the standard deviation velocity error, then it is not clear that the keplerian motion is breaking down. We must be confident that our error is smaller than that if we want to use this data to claim that keplerian motion is disproven."
   ]
  },
  {
   "cell_type": "markdown",
   "metadata": {
    "id": "QIHRn8UlOdDZ",
    "run_control": {
     "frozen": false,
     "read_only": false
    }
   },
   "source": [
    "## do the same for the Milky Way. If your functions were create properly you should be able to reuse them seamlessly"
   ]
  },
  {
   "cell_type": "code",
   "execution_count": 29,
   "metadata": {
    "id": "NVp9cJzv-Dic"
   },
   "outputs": [],
   "source": [
    "mw = pd.read_csv(\"https://raw.githubusercontent.com/fedhere/DSPS_FBianco/main/HW4/mw.csv\",\n",
    "                  delimiter=\",\",skipinitialspace=True, header=1)#, skipfooter=2)"
   ]
  },
  {
   "cell_type": "code",
   "execution_count": 30,
   "metadata": {
    "colab": {
     "base_uri": "https://localhost:8080/",
     "height": 206
    },
    "id": "DSgphq0A06uI",
    "outputId": "4f70a9b9-1b37-4207-c1cd-f4ec533e107b"
   },
   "outputs": [
    {
     "data": {
      "text/html": [
       "\n",
       "  <div id=\"df-ff0c182e-e0ce-4981-9328-e5c84438a2f2\" class=\"colab-df-container\">\n",
       "    <div>\n",
       "<style scoped>\n",
       "    .dataframe tbody tr th:only-of-type {\n",
       "        vertical-align: middle;\n",
       "    }\n",
       "\n",
       "    .dataframe tbody tr th {\n",
       "        vertical-align: top;\n",
       "    }\n",
       "\n",
       "    .dataframe thead th {\n",
       "        text-align: right;\n",
       "    }\n",
       "</style>\n",
       "<table border=\"1\" class=\"dataframe\">\n",
       "  <thead>\n",
       "    <tr style=\"text-align: right;\">\n",
       "      <th></th>\n",
       "      <th>R(kpc)</th>\n",
       "      <th>V(km/s)</th>\n",
       "      <th>St.dev.</th>\n",
       "      <th>St.error</th>\n",
       "    </tr>\n",
       "  </thead>\n",
       "  <tbody>\n",
       "    <tr>\n",
       "      <th>0</th>\n",
       "      <td>0.010</td>\n",
       "      <td>119.061</td>\n",
       "      <td>41.832</td>\n",
       "      <td>32.714</td>\n",
       "    </tr>\n",
       "    <tr>\n",
       "      <th>1</th>\n",
       "      <td>0.012</td>\n",
       "      <td>115.268</td>\n",
       "      <td>35.199</td>\n",
       "      <td>17.100</td>\n",
       "    </tr>\n",
       "    <tr>\n",
       "      <th>2</th>\n",
       "      <td>0.014</td>\n",
       "      <td>117.392</td>\n",
       "      <td>35.152</td>\n",
       "      <td>14.429</td>\n",
       "    </tr>\n",
       "    <tr>\n",
       "      <th>3</th>\n",
       "      <td>0.017</td>\n",
       "      <td>118.475</td>\n",
       "      <td>35.252</td>\n",
       "      <td>14.870</td>\n",
       "    </tr>\n",
       "    <tr>\n",
       "      <th>4</th>\n",
       "      <td>0.021</td>\n",
       "      <td>110.386</td>\n",
       "      <td>33.817</td>\n",
       "      <td>14.427</td>\n",
       "    </tr>\n",
       "  </tbody>\n",
       "</table>\n",
       "</div>\n",
       "    <div class=\"colab-df-buttons\">\n",
       "\n",
       "  <div class=\"colab-df-container\">\n",
       "    <button class=\"colab-df-convert\" onclick=\"convertToInteractive('df-ff0c182e-e0ce-4981-9328-e5c84438a2f2')\"\n",
       "            title=\"Convert this dataframe to an interactive table.\"\n",
       "            style=\"display:none;\">\n",
       "\n",
       "  <svg xmlns=\"http://www.w3.org/2000/svg\" height=\"24px\" viewBox=\"0 -960 960 960\">\n",
       "    <path d=\"M120-120v-720h720v720H120Zm60-500h600v-160H180v160Zm220 220h160v-160H400v160Zm0 220h160v-160H400v160ZM180-400h160v-160H180v160Zm440 0h160v-160H620v160ZM180-180h160v-160H180v160Zm440 0h160v-160H620v160Z\"/>\n",
       "  </svg>\n",
       "    </button>\n",
       "\n",
       "  <style>\n",
       "    .colab-df-container {\n",
       "      display:flex;\n",
       "      gap: 12px;\n",
       "    }\n",
       "\n",
       "    .colab-df-convert {\n",
       "      background-color: #E8F0FE;\n",
       "      border: none;\n",
       "      border-radius: 50%;\n",
       "      cursor: pointer;\n",
       "      display: none;\n",
       "      fill: #1967D2;\n",
       "      height: 32px;\n",
       "      padding: 0 0 0 0;\n",
       "      width: 32px;\n",
       "    }\n",
       "\n",
       "    .colab-df-convert:hover {\n",
       "      background-color: #E2EBFA;\n",
       "      box-shadow: 0px 1px 2px rgba(60, 64, 67, 0.3), 0px 1px 3px 1px rgba(60, 64, 67, 0.15);\n",
       "      fill: #174EA6;\n",
       "    }\n",
       "\n",
       "    .colab-df-buttons div {\n",
       "      margin-bottom: 4px;\n",
       "    }\n",
       "\n",
       "    [theme=dark] .colab-df-convert {\n",
       "      background-color: #3B4455;\n",
       "      fill: #D2E3FC;\n",
       "    }\n",
       "\n",
       "    [theme=dark] .colab-df-convert:hover {\n",
       "      background-color: #434B5C;\n",
       "      box-shadow: 0px 1px 3px 1px rgba(0, 0, 0, 0.15);\n",
       "      filter: drop-shadow(0px 1px 2px rgba(0, 0, 0, 0.3));\n",
       "      fill: #FFFFFF;\n",
       "    }\n",
       "  </style>\n",
       "\n",
       "    <script>\n",
       "      const buttonEl =\n",
       "        document.querySelector('#df-ff0c182e-e0ce-4981-9328-e5c84438a2f2 button.colab-df-convert');\n",
       "      buttonEl.style.display =\n",
       "        google.colab.kernel.accessAllowed ? 'block' : 'none';\n",
       "\n",
       "      async function convertToInteractive(key) {\n",
       "        const element = document.querySelector('#df-ff0c182e-e0ce-4981-9328-e5c84438a2f2');\n",
       "        const dataTable =\n",
       "          await google.colab.kernel.invokeFunction('convertToInteractive',\n",
       "                                                    [key], {});\n",
       "        if (!dataTable) return;\n",
       "\n",
       "        const docLinkHtml = 'Like what you see? Visit the ' +\n",
       "          '<a target=\"_blank\" href=https://colab.research.google.com/notebooks/data_table.ipynb>data table notebook</a>'\n",
       "          + ' to learn more about interactive tables.';\n",
       "        element.innerHTML = '';\n",
       "        dataTable['output_type'] = 'display_data';\n",
       "        await google.colab.output.renderOutput(dataTable, element);\n",
       "        const docLink = document.createElement('div');\n",
       "        docLink.innerHTML = docLinkHtml;\n",
       "        element.appendChild(docLink);\n",
       "      }\n",
       "    </script>\n",
       "  </div>\n",
       "\n",
       "\n",
       "<div id=\"df-fe07fab7-029d-4b73-b93c-88cd6873d292\">\n",
       "  <button class=\"colab-df-quickchart\" onclick=\"quickchart('df-fe07fab7-029d-4b73-b93c-88cd6873d292')\"\n",
       "            title=\"Suggest charts.\"\n",
       "            style=\"display:none;\">\n",
       "\n",
       "<svg xmlns=\"http://www.w3.org/2000/svg\" height=\"24px\"viewBox=\"0 0 24 24\"\n",
       "     width=\"24px\">\n",
       "    <g>\n",
       "        <path d=\"M19 3H5c-1.1 0-2 .9-2 2v14c0 1.1.9 2 2 2h14c1.1 0 2-.9 2-2V5c0-1.1-.9-2-2-2zM9 17H7v-7h2v7zm4 0h-2V7h2v10zm4 0h-2v-4h2v4z\"/>\n",
       "    </g>\n",
       "</svg>\n",
       "  </button>\n",
       "\n",
       "<style>\n",
       "  .colab-df-quickchart {\n",
       "      --bg-color: #E8F0FE;\n",
       "      --fill-color: #1967D2;\n",
       "      --hover-bg-color: #E2EBFA;\n",
       "      --hover-fill-color: #174EA6;\n",
       "      --disabled-fill-color: #AAA;\n",
       "      --disabled-bg-color: #DDD;\n",
       "  }\n",
       "\n",
       "  [theme=dark] .colab-df-quickchart {\n",
       "      --bg-color: #3B4455;\n",
       "      --fill-color: #D2E3FC;\n",
       "      --hover-bg-color: #434B5C;\n",
       "      --hover-fill-color: #FFFFFF;\n",
       "      --disabled-bg-color: #3B4455;\n",
       "      --disabled-fill-color: #666;\n",
       "  }\n",
       "\n",
       "  .colab-df-quickchart {\n",
       "    background-color: var(--bg-color);\n",
       "    border: none;\n",
       "    border-radius: 50%;\n",
       "    cursor: pointer;\n",
       "    display: none;\n",
       "    fill: var(--fill-color);\n",
       "    height: 32px;\n",
       "    padding: 0;\n",
       "    width: 32px;\n",
       "  }\n",
       "\n",
       "  .colab-df-quickchart:hover {\n",
       "    background-color: var(--hover-bg-color);\n",
       "    box-shadow: 0 1px 2px rgba(60, 64, 67, 0.3), 0 1px 3px 1px rgba(60, 64, 67, 0.15);\n",
       "    fill: var(--button-hover-fill-color);\n",
       "  }\n",
       "\n",
       "  .colab-df-quickchart-complete:disabled,\n",
       "  .colab-df-quickchart-complete:disabled:hover {\n",
       "    background-color: var(--disabled-bg-color);\n",
       "    fill: var(--disabled-fill-color);\n",
       "    box-shadow: none;\n",
       "  }\n",
       "\n",
       "  .colab-df-spinner {\n",
       "    border: 2px solid var(--fill-color);\n",
       "    border-color: transparent;\n",
       "    border-bottom-color: var(--fill-color);\n",
       "    animation:\n",
       "      spin 1s steps(1) infinite;\n",
       "  }\n",
       "\n",
       "  @keyframes spin {\n",
       "    0% {\n",
       "      border-color: transparent;\n",
       "      border-bottom-color: var(--fill-color);\n",
       "      border-left-color: var(--fill-color);\n",
       "    }\n",
       "    20% {\n",
       "      border-color: transparent;\n",
       "      border-left-color: var(--fill-color);\n",
       "      border-top-color: var(--fill-color);\n",
       "    }\n",
       "    30% {\n",
       "      border-color: transparent;\n",
       "      border-left-color: var(--fill-color);\n",
       "      border-top-color: var(--fill-color);\n",
       "      border-right-color: var(--fill-color);\n",
       "    }\n",
       "    40% {\n",
       "      border-color: transparent;\n",
       "      border-right-color: var(--fill-color);\n",
       "      border-top-color: var(--fill-color);\n",
       "    }\n",
       "    60% {\n",
       "      border-color: transparent;\n",
       "      border-right-color: var(--fill-color);\n",
       "    }\n",
       "    80% {\n",
       "      border-color: transparent;\n",
       "      border-right-color: var(--fill-color);\n",
       "      border-bottom-color: var(--fill-color);\n",
       "    }\n",
       "    90% {\n",
       "      border-color: transparent;\n",
       "      border-bottom-color: var(--fill-color);\n",
       "    }\n",
       "  }\n",
       "</style>\n",
       "\n",
       "  <script>\n",
       "    async function quickchart(key) {\n",
       "      const quickchartButtonEl =\n",
       "        document.querySelector('#' + key + ' button');\n",
       "      quickchartButtonEl.disabled = true;  // To prevent multiple clicks.\n",
       "      quickchartButtonEl.classList.add('colab-df-spinner');\n",
       "      try {\n",
       "        const charts = await google.colab.kernel.invokeFunction(\n",
       "            'suggestCharts', [key], {});\n",
       "      } catch (error) {\n",
       "        console.error('Error during call to suggestCharts:', error);\n",
       "      }\n",
       "      quickchartButtonEl.classList.remove('colab-df-spinner');\n",
       "      quickchartButtonEl.classList.add('colab-df-quickchart-complete');\n",
       "    }\n",
       "    (() => {\n",
       "      let quickchartButtonEl =\n",
       "        document.querySelector('#df-fe07fab7-029d-4b73-b93c-88cd6873d292 button');\n",
       "      quickchartButtonEl.style.display =\n",
       "        google.colab.kernel.accessAllowed ? 'block' : 'none';\n",
       "    })();\n",
       "  </script>\n",
       "</div>\n",
       "    </div>\n",
       "  </div>\n"
      ],
      "text/plain": [
       "   R(kpc)  V(km/s)  St.dev.  St.error\n",
       "0   0.010  119.061   41.832    32.714\n",
       "1   0.012  115.268   35.199    17.100\n",
       "2   0.014  117.392   35.152    14.429\n",
       "3   0.017  118.475   35.252    14.870\n",
       "4   0.021  110.386   33.817    14.427"
      ]
     },
     "execution_count": 30,
     "metadata": {},
     "output_type": "execute_result"
    }
   ],
   "source": [
    "mw.head()"
   ]
  },
  {
   "cell_type": "code",
   "execution_count": 31,
   "metadata": {
    "id": "jT5ke7dK1AuS"
   },
   "outputs": [],
   "source": [
    "mw.rename({\"R(kpc)\": \"r\",\n",
    "            \"V(km/s)\": \"v\",\n",
    "            \"St.dev.\": \"dv\",\n",
    "            \"St.error\":\"err\"},axis=1,inplace=True)"
   ]
  },
  {
   "cell_type": "code",
   "execution_count": 32,
   "metadata": {
    "colab": {
     "base_uri": "https://localhost:8080/",
     "height": 206
    },
    "id": "xBPqZvdX1EDE",
    "outputId": "2453ce52-e584-4b99-9538-d2e1f62148eb"
   },
   "outputs": [
    {
     "data": {
      "text/html": [
       "\n",
       "  <div id=\"df-07da23a1-6385-4e75-8564-36a1b0b25ef8\" class=\"colab-df-container\">\n",
       "    <div>\n",
       "<style scoped>\n",
       "    .dataframe tbody tr th:only-of-type {\n",
       "        vertical-align: middle;\n",
       "    }\n",
       "\n",
       "    .dataframe tbody tr th {\n",
       "        vertical-align: top;\n",
       "    }\n",
       "\n",
       "    .dataframe thead th {\n",
       "        text-align: right;\n",
       "    }\n",
       "</style>\n",
       "<table border=\"1\" class=\"dataframe\">\n",
       "  <thead>\n",
       "    <tr style=\"text-align: right;\">\n",
       "      <th></th>\n",
       "      <th>r</th>\n",
       "      <th>v</th>\n",
       "      <th>dv</th>\n",
       "      <th>err</th>\n",
       "    </tr>\n",
       "  </thead>\n",
       "  <tbody>\n",
       "    <tr>\n",
       "      <th>0</th>\n",
       "      <td>0.010</td>\n",
       "      <td>119.061</td>\n",
       "      <td>41.832</td>\n",
       "      <td>32.714</td>\n",
       "    </tr>\n",
       "    <tr>\n",
       "      <th>1</th>\n",
       "      <td>0.012</td>\n",
       "      <td>115.268</td>\n",
       "      <td>35.199</td>\n",
       "      <td>17.100</td>\n",
       "    </tr>\n",
       "    <tr>\n",
       "      <th>2</th>\n",
       "      <td>0.014</td>\n",
       "      <td>117.392</td>\n",
       "      <td>35.152</td>\n",
       "      <td>14.429</td>\n",
       "    </tr>\n",
       "    <tr>\n",
       "      <th>3</th>\n",
       "      <td>0.017</td>\n",
       "      <td>118.475</td>\n",
       "      <td>35.252</td>\n",
       "      <td>14.870</td>\n",
       "    </tr>\n",
       "    <tr>\n",
       "      <th>4</th>\n",
       "      <td>0.021</td>\n",
       "      <td>110.386</td>\n",
       "      <td>33.817</td>\n",
       "      <td>14.427</td>\n",
       "    </tr>\n",
       "  </tbody>\n",
       "</table>\n",
       "</div>\n",
       "    <div class=\"colab-df-buttons\">\n",
       "\n",
       "  <div class=\"colab-df-container\">\n",
       "    <button class=\"colab-df-convert\" onclick=\"convertToInteractive('df-07da23a1-6385-4e75-8564-36a1b0b25ef8')\"\n",
       "            title=\"Convert this dataframe to an interactive table.\"\n",
       "            style=\"display:none;\">\n",
       "\n",
       "  <svg xmlns=\"http://www.w3.org/2000/svg\" height=\"24px\" viewBox=\"0 -960 960 960\">\n",
       "    <path d=\"M120-120v-720h720v720H120Zm60-500h600v-160H180v160Zm220 220h160v-160H400v160Zm0 220h160v-160H400v160ZM180-400h160v-160H180v160Zm440 0h160v-160H620v160ZM180-180h160v-160H180v160Zm440 0h160v-160H620v160Z\"/>\n",
       "  </svg>\n",
       "    </button>\n",
       "\n",
       "  <style>\n",
       "    .colab-df-container {\n",
       "      display:flex;\n",
       "      gap: 12px;\n",
       "    }\n",
       "\n",
       "    .colab-df-convert {\n",
       "      background-color: #E8F0FE;\n",
       "      border: none;\n",
       "      border-radius: 50%;\n",
       "      cursor: pointer;\n",
       "      display: none;\n",
       "      fill: #1967D2;\n",
       "      height: 32px;\n",
       "      padding: 0 0 0 0;\n",
       "      width: 32px;\n",
       "    }\n",
       "\n",
       "    .colab-df-convert:hover {\n",
       "      background-color: #E2EBFA;\n",
       "      box-shadow: 0px 1px 2px rgba(60, 64, 67, 0.3), 0px 1px 3px 1px rgba(60, 64, 67, 0.15);\n",
       "      fill: #174EA6;\n",
       "    }\n",
       "\n",
       "    .colab-df-buttons div {\n",
       "      margin-bottom: 4px;\n",
       "    }\n",
       "\n",
       "    [theme=dark] .colab-df-convert {\n",
       "      background-color: #3B4455;\n",
       "      fill: #D2E3FC;\n",
       "    }\n",
       "\n",
       "    [theme=dark] .colab-df-convert:hover {\n",
       "      background-color: #434B5C;\n",
       "      box-shadow: 0px 1px 3px 1px rgba(0, 0, 0, 0.15);\n",
       "      filter: drop-shadow(0px 1px 2px rgba(0, 0, 0, 0.3));\n",
       "      fill: #FFFFFF;\n",
       "    }\n",
       "  </style>\n",
       "\n",
       "    <script>\n",
       "      const buttonEl =\n",
       "        document.querySelector('#df-07da23a1-6385-4e75-8564-36a1b0b25ef8 button.colab-df-convert');\n",
       "      buttonEl.style.display =\n",
       "        google.colab.kernel.accessAllowed ? 'block' : 'none';\n",
       "\n",
       "      async function convertToInteractive(key) {\n",
       "        const element = document.querySelector('#df-07da23a1-6385-4e75-8564-36a1b0b25ef8');\n",
       "        const dataTable =\n",
       "          await google.colab.kernel.invokeFunction('convertToInteractive',\n",
       "                                                    [key], {});\n",
       "        if (!dataTable) return;\n",
       "\n",
       "        const docLinkHtml = 'Like what you see? Visit the ' +\n",
       "          '<a target=\"_blank\" href=https://colab.research.google.com/notebooks/data_table.ipynb>data table notebook</a>'\n",
       "          + ' to learn more about interactive tables.';\n",
       "        element.innerHTML = '';\n",
       "        dataTable['output_type'] = 'display_data';\n",
       "        await google.colab.output.renderOutput(dataTable, element);\n",
       "        const docLink = document.createElement('div');\n",
       "        docLink.innerHTML = docLinkHtml;\n",
       "        element.appendChild(docLink);\n",
       "      }\n",
       "    </script>\n",
       "  </div>\n",
       "\n",
       "\n",
       "<div id=\"df-611d5ea9-1107-4cff-b804-94db3d91d8af\">\n",
       "  <button class=\"colab-df-quickchart\" onclick=\"quickchart('df-611d5ea9-1107-4cff-b804-94db3d91d8af')\"\n",
       "            title=\"Suggest charts.\"\n",
       "            style=\"display:none;\">\n",
       "\n",
       "<svg xmlns=\"http://www.w3.org/2000/svg\" height=\"24px\"viewBox=\"0 0 24 24\"\n",
       "     width=\"24px\">\n",
       "    <g>\n",
       "        <path d=\"M19 3H5c-1.1 0-2 .9-2 2v14c0 1.1.9 2 2 2h14c1.1 0 2-.9 2-2V5c0-1.1-.9-2-2-2zM9 17H7v-7h2v7zm4 0h-2V7h2v10zm4 0h-2v-4h2v4z\"/>\n",
       "    </g>\n",
       "</svg>\n",
       "  </button>\n",
       "\n",
       "<style>\n",
       "  .colab-df-quickchart {\n",
       "      --bg-color: #E8F0FE;\n",
       "      --fill-color: #1967D2;\n",
       "      --hover-bg-color: #E2EBFA;\n",
       "      --hover-fill-color: #174EA6;\n",
       "      --disabled-fill-color: #AAA;\n",
       "      --disabled-bg-color: #DDD;\n",
       "  }\n",
       "\n",
       "  [theme=dark] .colab-df-quickchart {\n",
       "      --bg-color: #3B4455;\n",
       "      --fill-color: #D2E3FC;\n",
       "      --hover-bg-color: #434B5C;\n",
       "      --hover-fill-color: #FFFFFF;\n",
       "      --disabled-bg-color: #3B4455;\n",
       "      --disabled-fill-color: #666;\n",
       "  }\n",
       "\n",
       "  .colab-df-quickchart {\n",
       "    background-color: var(--bg-color);\n",
       "    border: none;\n",
       "    border-radius: 50%;\n",
       "    cursor: pointer;\n",
       "    display: none;\n",
       "    fill: var(--fill-color);\n",
       "    height: 32px;\n",
       "    padding: 0;\n",
       "    width: 32px;\n",
       "  }\n",
       "\n",
       "  .colab-df-quickchart:hover {\n",
       "    background-color: var(--hover-bg-color);\n",
       "    box-shadow: 0 1px 2px rgba(60, 64, 67, 0.3), 0 1px 3px 1px rgba(60, 64, 67, 0.15);\n",
       "    fill: var(--button-hover-fill-color);\n",
       "  }\n",
       "\n",
       "  .colab-df-quickchart-complete:disabled,\n",
       "  .colab-df-quickchart-complete:disabled:hover {\n",
       "    background-color: var(--disabled-bg-color);\n",
       "    fill: var(--disabled-fill-color);\n",
       "    box-shadow: none;\n",
       "  }\n",
       "\n",
       "  .colab-df-spinner {\n",
       "    border: 2px solid var(--fill-color);\n",
       "    border-color: transparent;\n",
       "    border-bottom-color: var(--fill-color);\n",
       "    animation:\n",
       "      spin 1s steps(1) infinite;\n",
       "  }\n",
       "\n",
       "  @keyframes spin {\n",
       "    0% {\n",
       "      border-color: transparent;\n",
       "      border-bottom-color: var(--fill-color);\n",
       "      border-left-color: var(--fill-color);\n",
       "    }\n",
       "    20% {\n",
       "      border-color: transparent;\n",
       "      border-left-color: var(--fill-color);\n",
       "      border-top-color: var(--fill-color);\n",
       "    }\n",
       "    30% {\n",
       "      border-color: transparent;\n",
       "      border-left-color: var(--fill-color);\n",
       "      border-top-color: var(--fill-color);\n",
       "      border-right-color: var(--fill-color);\n",
       "    }\n",
       "    40% {\n",
       "      border-color: transparent;\n",
       "      border-right-color: var(--fill-color);\n",
       "      border-top-color: var(--fill-color);\n",
       "    }\n",
       "    60% {\n",
       "      border-color: transparent;\n",
       "      border-right-color: var(--fill-color);\n",
       "    }\n",
       "    80% {\n",
       "      border-color: transparent;\n",
       "      border-right-color: var(--fill-color);\n",
       "      border-bottom-color: var(--fill-color);\n",
       "    }\n",
       "    90% {\n",
       "      border-color: transparent;\n",
       "      border-bottom-color: var(--fill-color);\n",
       "    }\n",
       "  }\n",
       "</style>\n",
       "\n",
       "  <script>\n",
       "    async function quickchart(key) {\n",
       "      const quickchartButtonEl =\n",
       "        document.querySelector('#' + key + ' button');\n",
       "      quickchartButtonEl.disabled = true;  // To prevent multiple clicks.\n",
       "      quickchartButtonEl.classList.add('colab-df-spinner');\n",
       "      try {\n",
       "        const charts = await google.colab.kernel.invokeFunction(\n",
       "            'suggestCharts', [key], {});\n",
       "      } catch (error) {\n",
       "        console.error('Error during call to suggestCharts:', error);\n",
       "      }\n",
       "      quickchartButtonEl.classList.remove('colab-df-spinner');\n",
       "      quickchartButtonEl.classList.add('colab-df-quickchart-complete');\n",
       "    }\n",
       "    (() => {\n",
       "      let quickchartButtonEl =\n",
       "        document.querySelector('#df-611d5ea9-1107-4cff-b804-94db3d91d8af button');\n",
       "      quickchartButtonEl.style.display =\n",
       "        google.colab.kernel.accessAllowed ? 'block' : 'none';\n",
       "    })();\n",
       "  </script>\n",
       "</div>\n",
       "    </div>\n",
       "  </div>\n"
      ],
      "text/plain": [
       "       r        v      dv     err\n",
       "0  0.010  119.061  41.832  32.714\n",
       "1  0.012  115.268  35.199  17.100\n",
       "2  0.014  117.392  35.152  14.429\n",
       "3  0.017  118.475  35.252  14.870\n",
       "4  0.021  110.386  33.817  14.427"
      ]
     },
     "execution_count": 32,
     "metadata": {},
     "output_type": "execute_result"
    }
   ],
   "source": [
    "mw.head()"
   ]
  },
  {
   "cell_type": "markdown",
   "metadata": {
    "id": "oxQofaCKOdDg",
    "run_control": {
     "frozen": false,
     "read_only": false
    }
   },
   "source": [
    "https://en.wikipedia.org/wiki/Milky_Way\n",
    "    "
   ]
  },
  {
   "cell_type": "code",
   "execution_count": 33,
   "metadata": {
    "colab": {
     "base_uri": "https://localhost:8080/"
    },
    "id": "g_VNCs7A1wnw",
    "outputId": "24515fa2-5bba-4879-8dee-1b2f188b6020"
   },
   "outputs": [
    {
     "name": "stdout",
     "output_type": "stream",
     "text": [
      "Physical radius of the Milky Way (Isophotal radius aka luminosity-based): 13.4 +/- 0.6 kpc\n"
     ]
    }
   ],
   "source": [
    "mw_phys_size = 26.8/2 #from wikipedia - it had the diameter\n",
    "mw_phys_size_err = 1.1/2\n",
    "print(\"Physical radius of the Milky Way (Isophotal radius aka luminosity-based): \" +\n",
    "      r\"{:.1f} +/- {:2.1f}\".format(mw_phys_size, mw_phys_size_err)+\" kpc\")"
   ]
  },
  {
   "cell_type": "code",
   "execution_count": 34,
   "metadata": {
    "colab": {
     "base_uri": "https://localhost:8080/",
     "height": 472
    },
    "id": "7gdxmdYI1T8s",
    "outputId": "6788581d-aea0-4e2a-a7de-7f6e0ee66d00"
   },
   "outputs": [
    {
     "data": {
      "image/png": "[encoded data removed]",
      "text/plain": [
       "<Figure size 640x480 with 1 Axes>"
      ]
     },
     "metadata": {},
     "output_type": "display_data"
    }
   ],
   "source": [
    "r1, v1, dv1, err1 = getradii(mw, 1, mw_phys_size)\n",
    "r2, v2, dv2, err2 = getradii(mw, 2, mw_phys_size)\n",
    "r3, v3, dv3, err3 = getradii(mw, 3, mw_phys_size)\n",
    "plt.errorbar(mw[\"r\"], mw[\"v\"], mw[\"dv\"], color=\"orange\")\n",
    "plt.errorbar(mw[\"r\"], mw[\"v\"], mw[\"err\"], linewidth=4, color=\"orange\")\n",
    "plt.errorbar(x=r1, y=v1, yerr=dv1, color=\"r\")\n",
    "plt.errorbar(x=r2, y=v2, yerr=dv2, color=\"g\")\n",
    "plt.errorbar(x=r3, y=v3, yerr=dv3, color=\"b\")\n",
    "plt.text(x=r1, y=v1-dv1-23,\n",
    "         s=str(v1)+\"\\n\"+r\"(dv = {:.0f}, err = {:.0f}\".format(dv1, err1)+\")\",\n",
    "         horizontalalignment=\"center\")\n",
    "plt.text(x=r2, y=v2-dv2-23,\n",
    "         s=str(v2)+\"\\n\"+r\"(dv = {:.0f}, err = {:.0f}\".format(dv2, err2)+\")\",\n",
    "         horizontalalignment=\"center\")\n",
    "plt.text(x=r3, y=v3-dv3-50,\n",
    "         s=str(v3)+\"\\n\"+r\"(dv = {:.0f}, err = {:.0f}\".format(dv3, err3)+\")\",\n",
    "         horizontalalignment=\"center\")\n",
    "plt.title(\"milky way radius vs velocity\")\n",
    "plt.xlabel(\"radius (kpc)\")\n",
    "plt.ylabel(\"velocity (km/s)\")\n",
    "plt.legend([\"dv\",\"err\", \"radius\", \"2xradius\", \"3xradius\"])\n",
    "plt.xlim(0,100)\n",
    "plt.show()"
   ]
  },
  {
   "cell_type": "markdown",
   "metadata": {
    "id": "uM7QlQoE3ZMH"
   },
   "source": [
    "Figure 7 - here is a plot of radius vs velocity for the milky way. the velocity does not drop off at larger radiuses, as we would expect from keplerian motion. the error bars are again extremely large though, so we will check analytically to see whether the velocity is within the error for keplerian motion."
   ]
  },
  {
   "cell_type": "code",
   "execution_count": 34,
   "metadata": {
    "id": "UgWc6eFg3GXu"
   },
   "outputs": [],
   "source": []
  },
  {
   "cell_type": "code",
   "execution_count": 55,
   "metadata": {
    "ExecuteTime": {
     "end_time": "2019-08-02T02:22:20.233692Z",
     "start_time": "2019-08-02T02:22:20.225631Z"
    },
    "colab": {
     "base_uri": "https://localhost:8080/"
    },
    "id": "ykvGn7o-4PBJ",
    "outputId": "90f59e8d-e973-4210-ca12-866bc4a18e26",
    "run_control": {
     "frozen": false,
     "read_only": false
    }
   },
   "outputs": [
    {
     "name": "stdout",
     "output_type": "stream",
     "text": [
      "at 15 kpc, which is 1x the physical size\n",
      "of the luminous component of the galaxy, under Newtonian dynamics\n",
      "we would expect the velocity to be sqrt(R0/R) = 1.00 x the velocity at R0.\n",
      "However, in reality the velocity is 1.00 +/- 0.24 x the velocity at R0.\n",
      "The two-sigma upper limit of the real velocity ratio is 1.48 and\n",
      "and the two-sigma lower limit of the real velocity ratio is 0.52.\n",
      "This ratio is consistent within two sigma of the expected ratio from Newton's law.\n",
      "\n",
      " \n",
      " \n",
      "\n",
      "at 15 kpc, which is 1x the physical size\n",
      "of the luminous component of the galaxy, under Newtonian dynamics\n",
      "we would expect the velocity to be sqrt(R0/R) = 1.00 x the velocity at R0.\n",
      "However, in reality the velocity is 1.00 +/- 0.02 x the velocity at R0.\n",
      "The two-sigma upper limit of the real velocity ratio is 1.05 and\n",
      "and the two-sigma lower limit of the real velocity ratio is 0.95.\n",
      "This ratio is consistent within two sigma of the expected ratio from Newton's law.\n"
     ]
    }
   ],
   "source": [
    "vratios(mw, mw_phys_size, 1)\n",
    "\n",
    "print(\"\\n \\n \\n\")\n",
    "\n",
    "vratios(mw, mw_phys_size, 1, err='err')"
   ]
  },
  {
   "cell_type": "code",
   "execution_count": 56,
   "metadata": {
    "ExecuteTime": {
     "end_time": "2019-08-02T02:22:26.272266Z",
     "start_time": "2019-08-02T02:22:26.263760Z"
    },
    "colab": {
     "base_uri": "https://localhost:8080/"
    },
    "id": "d4ZrxYXx4PBO",
    "outputId": "b8e2a90d-7fea-46dd-f57c-8467c87da32d",
    "run_control": {
     "frozen": false,
     "read_only": false
    }
   },
   "outputs": [
    {
     "name": "stdout",
     "output_type": "stream",
     "text": [
      "at 30 kpc, which is 2x the physical size\n",
      "of the luminous component of the galaxy, under Newtonian dynamics\n",
      "we would expect the velocity to be sqrt(R0/R) = 0.69 x the velocity at R0.\n",
      "However, in reality the velocity is 0.97 +/- 0.24 x the velocity at R0.\n",
      "The two-sigma upper limit of the real velocity ratio is 1.45 and\n",
      "and the two-sigma lower limit of the real velocity ratio is 0.50.\n",
      "This ratio is consistent within two sigma of the expected ratio from Newton's law.\n"
     ]
    }
   ],
   "source": [
    "vratios(mw, mw_phys_size, 2)"
   ]
  },
  {
   "cell_type": "code",
   "execution_count": 57,
   "metadata": {
    "ExecuteTime": {
     "end_time": "2019-08-02T02:24:18.604569Z",
     "start_time": "2019-08-02T02:24:18.596278Z"
    },
    "colab": {
     "base_uri": "https://localhost:8080/"
    },
    "id": "uLVrbNBo4PBP",
    "outputId": "422c6cff-ed37-421b-c3d3-174abc6f844f",
    "run_control": {
     "frozen": false,
     "read_only": false
    }
   },
   "outputs": [
    {
     "name": "stdout",
     "output_type": "stream",
     "text": [
      "at 30 kpc, which is 2x the physical size\n",
      "of the luminous component of the galaxy, under Newtonian dynamics\n",
      "we would expect the velocity to be sqrt(R0/R) = 0.69 x the velocity at R0.\n",
      "However, in reality the velocity is 0.97 +/- 0.08 x the velocity at R0.\n",
      "The two-sigma upper limit of the real velocity ratio is 1.14 and\n",
      "and the two-sigma lower limit of the real velocity ratio is 0.80.\n",
      "This ratio is not consistent within two sigma of the expected ratio from Newton's law.\n"
     ]
    }
   ],
   "source": [
    "vratios(mw, mw_phys_size, 2, err='err')"
   ]
  },
  {
   "cell_type": "code",
   "execution_count": 58,
   "metadata": {
    "colab": {
     "base_uri": "https://localhost:8080/"
    },
    "id": "7urJ9B6h4PBR",
    "outputId": "39eebca2-6abb-438f-b10d-75bd3291f3e7"
   },
   "outputs": [
    {
     "name": "stdout",
     "output_type": "stream",
     "text": [
      "at 44 kpc, which is 3x the physical size\n",
      "of the luminous component of the galaxy, under Newtonian dynamics\n",
      "we would expect the velocity to be sqrt(R0/R) = 0.58 x the velocity at R0.\n",
      "However, in reality the velocity is 0.79 +/- 0.22 x the velocity at R0.\n",
      "The two-sigma upper limit of the real velocity ratio is 1.23 and\n",
      "and the two-sigma lower limit of the real velocity ratio is 0.36.\n",
      "This ratio is consistent within two sigma of the expected ratio from Newton's law.\n",
      "\n",
      " \n",
      " \n",
      "\n",
      "at 44 kpc, which is 3x the physical size\n",
      "of the luminous component of the galaxy, under Newtonian dynamics\n",
      "we would expect the velocity to be sqrt(R0/R) = 0.58 x the velocity at R0.\n",
      "However, in reality the velocity is 0.79 +/- 0.10 x the velocity at R0.\n",
      "The two-sigma upper limit of the real velocity ratio is 0.99 and\n",
      "and the two-sigma lower limit of the real velocity ratio is 0.59.\n",
      "This ratio is not consistent within two sigma of the expected ratio from Newton's law.\n"
     ]
    }
   ],
   "source": [
    "vratios(mw, mw_phys_size, 3)\n",
    "\n",
    "print(\"\\n \\n \\n\")\n",
    "\n",
    "vratios(mw, mw_phys_size, 3, err='err')"
   ]
  },
  {
   "cell_type": "code",
   "execution_count": 59,
   "metadata": {
    "colab": {
     "base_uri": "https://localhost:8080/"
    },
    "id": "iR-HYXq64cpu",
    "outputId": "3128cd23-3a3d-406a-c43e-a82bdd5a7f01"
   },
   "outputs": [
    {
     "name": "stdout",
     "output_type": "stream",
     "text": [
      "at 63 kpc, which is 4x the physical size\n",
      "of the luminous component of the galaxy, under Newtonian dynamics\n",
      "we would expect the velocity to be sqrt(R0/R) = 0.48 x the velocity at R0.\n",
      "However, in reality the velocity is 0.72 +/- 0.21 x the velocity at R0.\n",
      "The two-sigma upper limit of the real velocity ratio is 1.14 and\n",
      "and the two-sigma lower limit of the real velocity ratio is 0.30.\n",
      "This ratio is consistent within two sigma of the expected ratio from Newton's law.\n",
      "\n",
      " \n",
      " \n",
      "\n",
      "at 63 kpc, which is 4x the physical size\n",
      "of the luminous component of the galaxy, under Newtonian dynamics\n",
      "we would expect the velocity to be sqrt(R0/R) = 0.48 x the velocity at R0.\n",
      "However, in reality the velocity is 0.72 +/- 0.07 x the velocity at R0.\n",
      "The two-sigma upper limit of the real velocity ratio is 0.85 and\n",
      "and the two-sigma lower limit of the real velocity ratio is 0.59.\n",
      "This ratio is not consistent within two sigma of the expected ratio from Newton's law.\n"
     ]
    }
   ],
   "source": [
    "vratios(mw, mw_phys_size, 4)\n",
    "\n",
    "print(\"\\n \\n \\n\")\n",
    "\n",
    "vratios(mw, mw_phys_size, 4, err='err')"
   ]
  },
  {
   "cell_type": "markdown",
   "metadata": {
    "id": "bIUBPqWk4eI5"
   },
   "source": [
    "The milky way shows evidence of non-keplerian motion (so, probably dark matter). The velocity does not drop off with sqrt(1/r) outside the visible edge of the milky way like we would expect. However, if we only consider the standard deviation velocity error then it is possible that keplerian motion describes the datapoints that we have analyzed. Once again, it is crucial that we know what our errors are if we are going to claim that our data fits or doesn't fit a model."
   ]
  },
  {
   "cell_type": "code",
   "execution_count": 39,
   "metadata": {
    "id": "Eu947sOA9SVz"
   },
   "outputs": [],
   "source": []
  }
 ],
 "metadata": {
  "colab": {
   "collapsed_sections": [
    "KQAEJtWuOdCb"
   ],
   "include_colab_link": true,
   "provenance": []
  },
  "kernelspec": {
   "display_name": "Python 3 (ipykernel)",
   "language": "python",
   "name": "python3"
  },
  "language_info": {
   "codemirror_mode": {
    "name": "ipython",
    "version": 3
   },
   "file_extension": ".py",
   "mimetype": "text/x-python",
   "name": "python",
   "nbconvert_exporter": "python",
   "pygments_lexer": "ipython3",
   "version": "3.11.5"
  },
  "nbTranslate": {
   "displayLangs": [
    "*"
   ],
   "hotkey": "alt-t",
   "langInMainMenu": true,
   "sourceLang": "en",
   "targetLang": "fr",
   "useGoogleTranslate": true
  },
  "toc": {
   "base_numbering": 1,
   "colors": {
    "hover_highlight": "#DAA520",
    "running_highlight": "#FF0000",
    "selected_highlight": "#FFD700"
   },
   "moveMenuLeft": true,
   "nav_menu": {},
   "navigate_menu": true,
   "number_sections": true,
   "sideBar": true,
   "skip_h1_title": false,
   "threshold": 4,
   "title_cell": "Table of Contents",
   "title_sidebar": "Contents",
   "toc_cell": false,
   "toc_position": {
    "height": "calc(100% - 180px)",
    "left": "10px",
    "top": "150px",
    "width": "165px"
   },
   "toc_section_display": true,
   "toc_window_display": true
  }
 },
 "nbformat": 4,
 "nbformat_minor": 4
}
