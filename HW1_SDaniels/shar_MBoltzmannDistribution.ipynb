{
  "nbformat": 4,
  "nbformat_minor": 0,
  "metadata": {
    "colab": {
      "provenance": [],
      "include_colab_link": true
    },
    "kernelspec": {
      "display_name": "Python 3",
      "language": "python",
      "name": "python3"
    },
    "language_info": {
      "codemirror_mode": {
        "name": "ipython",
        "version": 3
      },
      "file_extension": ".py",
      "mimetype": "text/x-python",
      "name": "python",
      "nbconvert_exporter": "python",
      "pygments_lexer": "ipython3",
      "version": "3.7.3"
    },
    "latex_envs": {
      "LaTeX_envs_menu_present": true,
      "autoclose": false,
      "autocomplete": true,
      "bibliofile": "biblio.bib",
      "cite_by": "apalike",
      "current_citInitial": 1,
      "eqLabelWithNumbers": true,
      "eqNumInitial": 1,
      "hotkeys": {
        "equation": "Ctrl-E",
        "itemize": "Ctrl-I"
      },
      "labels_anchors": false,
      "latex_user_defs": false,
      "report_style_numbering": false,
      "user_envs_cfg": false
    },
    "nbTranslate": {
      "displayLangs": [
        "*"
      ],
      "hotkey": "alt-t",
      "langInMainMenu": true,
      "sourceLang": "en",
      "targetLang": "fr",
      "useGoogleTranslate": true
    },
    "toc": {
      "base_numbering": 1,
      "nav_menu": {},
      "number_sections": true,
      "sideBar": true,
      "skip_h1_title": false,
      "title_cell": "Table of Contents",
      "title_sidebar": "Contents",
      "toc_cell": false,
      "toc_position": {},
      "toc_section_display": true,
      "toc_window_display": false
    }
  },
  "cells": [
    {
      "cell_type": "markdown",
      "metadata": {
        "id": "view-in-github",
        "colab_type": "text"
      },
      "source": [
        "<a href=\"https://colab.research.google.com/github/SHDaniels/DSPS_sDaniels/blob/main/HW1_SDaniels/shar_MBoltzmannDistribution.ipynb\" target=\"_parent\"><img src=\"https://colab.research.google.com/assets/colab-badge.svg\" alt=\"Open In Colab\"/></a>"
      ]
    },
    {
      "cell_type": "markdown",
      "metadata": {
        "ExecuteTime": {
          "end_time": "2019-09-04T04:50:01.872913Z",
          "start_time": "2019-09-04T04:50:01.869703Z"
        },
        "id": "dk3tkh__KvAc"
      },
      "source": [
        " Written by Federica B. Bianco @fedhere\n",
        "UDel DSPS"
      ]
    },
    {
      "cell_type": "code",
      "metadata": {
        "ExecuteTime": {
          "end_time": "2019-09-07T17:36:53.625807Z",
          "start_time": "2019-09-07T17:36:53.393906Z"
        },
        "colab": {
          "base_uri": "https://localhost:8080/"
        },
        "id": "iQaonMUBqtX2",
        "outputId": "3bad3e86-f350-483c-cc4c-5882e616c76b"
      },
      "source": [
        "from __future__ import print_function, division\n",
        "import numpy as np\n",
        "import scipy as sp\n",
        "from scipy import stats\n",
        "import pylab as pl\n",
        "%pylab inline\n"
      ],
      "execution_count": 1,
      "outputs": [
        {
          "output_type": "stream",
          "name": "stdout",
          "text": [
            "Populating the interactive namespace from numpy and matplotlib\n"
          ]
        }
      ]
    },
    {
      "cell_type": "markdown",
      "metadata": {
        "id": "zu5QKDi5b7vW"
      },
      "source": [
        "# Homework 1: Maxwell Boltzmann distribution"
      ]
    },
    {
      "cell_type": "markdown",
      "metadata": {
        "id": "ueaB0mHCO_iM"
      },
      "source": [
        "In Physics, statistics can help us describe the macroscopic behavior of a system if we know its microscopic properties in a statistical sense. We cannot know the motion of each molecule in a gas, but we can know the distribution of their velocities and positions.   In the mid to late 1800s, James Clerk Maxwell and Ludwig Boltzmann modeled the *distribution of speed of molecules in a gas*. As you probably know, and can intuitive realize, the speed of the molecules depends on the temperature of the gas, which is a macroscopic property, the velocity of the molecules is different for different gas temperatures. **This distribution of velocities is called the Maxwell-Boltzmann distribution.**\n"
      ]
    },
    {
      "cell_type": "markdown",
      "metadata": {
        "id": "7LpR51uQSvN9"
      },
      "source": [
        "It turns out that the Maxwel-Boltzmann distribution is a special case of the [*Chi distribution*](https://en.wikipedia.org/wiki/Chi_distribution). The parameter that controls the shape of a Chi distribution is called \"degrees of freedom\" and the Maxwel-Boltzmann distribution is a Chi distribution _with 3 degrees of freedom_, and with a scale parameter _a_ corresponding to the temperature in some way.\n"
      ]
    },
    {
      "cell_type": "markdown",
      "metadata": {
        "id": "Pc25lN9SUxQL"
      },
      "source": [
        "Below I have created 3 distributions. Based on the description above\n",
        "\n",
        "\n",
        "# 1) label the axes in the plot"
      ]
    },
    {
      "cell_type": "code",
      "metadata": {
        "ExecuteTime": {
          "end_time": "2019-09-07T17:36:56.493299Z",
          "start_time": "2019-09-07T17:36:56.021862Z"
        },
        "colab": {
          "base_uri": "https://localhost:8080/",
          "height": 490
        },
        "id": "LZm2afzhUwuG",
        "outputId": "96c17a0b-4e71-47b1-91e5-81d4b1883821"
      },
      "source": [
        "np.random.randn(123)\n",
        "fig, ax = pl.subplots()\n",
        "for a in [0.2, 0.6, 1.0]:\n",
        "    ax.hist(sp.stats.chi.rvs(df=3, scale=a, size=1000), # could as well be sp.stats.maxwell.rvs(scale=a, size=1000)\n",
        "          bins=np.arange(0,5,0.1)-0.05, alpha=0.7,\n",
        "       label=\"a = %.1f\"%a);\n",
        "\n",
        "pl.legend();\n",
        "\n",
        "# your code to add labels here\n",
        "\n",
        "pl.title(\"Maxwell-Boltzmann Distribution\")\n",
        "pl.xlabel(\"value (particle speed)\")\n",
        "pl.ylabel(\"frequency (number of particles)\")"
      ],
      "execution_count": 4,
      "outputs": [
        {
          "output_type": "execute_result",
          "data": {
            "text/plain": [
              "Text(0, 0.5, 'frequency (number of particles)')"
            ]
          },
          "metadata": {},
          "execution_count": 4
        },
        {
          "output_type": "display_data",
          "data": {
            "text/plain": [
              "<Figure size 640x480 with 1 Axes>"
            ],
            "image/png": "[encoded data removed]"
          },
          "metadata": {}
        }
      ]
    },
    {
      "cell_type": "markdown",
      "metadata": {
        "id": "MGdILsLAaopl"
      },
      "source": [
        "# 2) knowing that the *scale* parameter $a$  is a function of the temperature  *T*, and that the dependency is to a power 1/2, which is correct:\n",
        "   **$a \\propto \\sqrt{T}$**  or **$a \\propto \\sqrt{1/T}$**?\n",
        "\n",
        "   (in other words, is the dependency on the root of the temperature or on the inverse root of the temperature ?)\n"
      ]
    },
    {
      "cell_type": "markdown",
      "metadata": {
        "id": "vMGhorbvcrFM"
      },
      "source": [
        "a is proportional to the square root of the temperature (since the dependency is to the 1/2)"
      ]
    },
    {
      "cell_type": "markdown",
      "metadata": {
        "id": "hGeeXYttXLO1"
      },
      "source": [
        "\n",
        "# 3) What is the mean of all three distributions. How does it compare to the most probable molecular speed?\n",
        "From the wikipedia page of the Chi distribution find the formula of the mean of the Chi distribution. The distribution we are using has a scale parameter *a* in addition to the number of degrees of freedom. The mean scales linearly with this parameter:\n",
        "\n",
        "$\\mu_{\\mathrm{MB}, k, a} = a \\cdot \\mu_{\\mathrm{chi}, k}$\n",
        "\n",
        "Using the scipy function ```sp.special.gamma()``` to  calculate the gamma $\\Gamma$ function, and the definition of the mean from the [wikipwdia page of the Chi2 distribution](https://en.wikipedia.org/wiki/Chi_distribution)\n",
        "**calculate the mean of all three distributions. Compare it with the mean of the empirical distributions I generated in step 1. How does this mean compare to the most probable molecular speed.**\n",
        "(and does it look right based on the plots above?)"
      ]
    },
    {
      "cell_type": "code",
      "source": [
        "#definition of the first moment: from the chi distribution:"
      ],
      "metadata": {
        "id": "DO4nxR5d9bCD"
      },
      "execution_count": null,
      "outputs": []
    },
    {
      "cell_type": "markdown",
      "source": [
        "![Screenshot 2023-09-19 at 3.43.20 PM.png](data:image/png;base64,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)"
      ],
      "metadata": {
        "id": "52fp5bAR-E4P"
      }
    },
    {
      "cell_type": "code",
      "source": [
        "def mu1(k):\n",
        "  return np.sqrt(2)*sp.special.gamma((1/2)*(k+1))/sp.special.gamma(k/2)"
      ],
      "metadata": {
        "id": "CJbcvVsW-VWL"
      },
      "execution_count": 5,
      "outputs": []
    },
    {
      "cell_type": "code",
      "source": [
        "mu1(3) #3 degrees of freedom"
      ],
      "metadata": {
        "colab": {
          "base_uri": "https://localhost:8080/"
        },
        "id": "eoLRCpzl-nNv",
        "outputId": "36b81d35-0839-40ac-e689-e3aeb80fbca1"
      },
      "execution_count": 8,
      "outputs": [
        {
          "output_type": "execute_result",
          "data": {
            "text/plain": [
              "1.595769121605731"
            ]
          },
          "metadata": {},
          "execution_count": 8
        }
      ]
    },
    {
      "cell_type": "code",
      "source": [
        "#so to get the mean of the three distributions:\n",
        "print(\"for a = 0.2:\")\n",
        "print(f\"{(.2*mu1(3)):.2f}\")\n",
        "print(\"for a = 0.6:\")\n",
        "print(f\"{(.6*mu1(3)):.2f}\")\n",
        "print(\"for a = 1.0:\")\n",
        "print(f\"{(mu1(3)):.2f}\")"
      ],
      "metadata": {
        "colab": {
          "base_uri": "https://localhost:8080/"
        },
        "id": "1S7J3VGt_Pss",
        "outputId": "94466678-f26d-477b-c89e-5fd4231318a6"
      },
      "execution_count": 14,
      "outputs": [
        {
          "output_type": "stream",
          "name": "stdout",
          "text": [
            "for a = 0.2:\n",
            "0.32\n",
            "for a = 0.6:\n",
            "0.96\n",
            "for a = 1.0:\n",
            "1.60\n"
          ]
        }
      ]
    },
    {
      "cell_type": "code",
      "source": [
        "#comparison:\n",
        "print(\"for a = 0.2:\")\n",
        "print(f\"calculated mean: {(.2*mu1(3)):.4f}\")\n",
        "print(f\"mean from the distribution: {(np.mean(sp.stats.chi.rvs(df=3, scale=.2, size=1000))):.4f}\")\n",
        "print(\"that looks close!\\n\")\n",
        "print(\"for a = 0.6:\")\n",
        "print(f\"calculated mean: {(.6*mu1(3)):.4f}\")\n",
        "print(f\"mean from the distribution: {(np.mean(sp.stats.chi.rvs(df=3, scale=.6, size=1000))):.4f}\")\n",
        "print(\"that looks close!\\n\")\n",
        "print(\"for a = 1.0:\")\n",
        "print(f\"calculated mean: {(mu1(3)):.4f}\")\n",
        "print(f\"mean from the distribution: {(np.mean(sp.stats.chi.rvs(df=3, scale=1, size=1000))):.4f}\")\n",
        "print(\"that looks close!\\n\")"
      ],
      "metadata": {
        "colab": {
          "base_uri": "https://localhost:8080/"
        },
        "id": "CXed10uGA261",
        "outputId": "a0c97134-ee6a-41e4-d78c-50b8547a0dd7"
      },
      "execution_count": 24,
      "outputs": [
        {
          "output_type": "stream",
          "name": "stdout",
          "text": [
            "for a = 0.2:\n",
            "calculated mean: 0.3192\n",
            "mean from the distribution: 0.3235\n",
            "that looks close!\n",
            "\n",
            "for a = 0.6:\n",
            "calculated mean: 0.9575\n",
            "mean from the distribution: 0.9609\n",
            "that looks close!\n",
            "\n",
            "for a = 1.0:\n",
            "calculated mean: 1.5958\n",
            "mean from the distribution: 1.6285\n",
            "that looks close!\n",
            "\n"
          ]
        }
      ]
    },
    {
      "cell_type": "markdown",
      "metadata": {
        "id": "r7oes80EQER-"
      },
      "source": [
        "This really only holds for perfect gasses, which means under 4 assumptions:\n",
        "- the diameter of the molecules is much smaller than the distance between them\n",
        "- the collisions between molecules conserve energy\n",
        "- the molecules do not interact between collisions and are not subject to any other forces (move at constant speed in a straight line)\n",
        "- the initial position and velocity are random."
      ]
    },
    {
      "cell_type": "markdown",
      "metadata": {
        "id": "3PJ9hjLzQjyA"
      },
      "source": [
        "# Extra Credit:\n",
        "\n",
        "can you create a python (2D) simulation where the molecules behave as describe and calculate their speed evolution from an initial speed that is gaussian distributed? (rather hard!!)\n"
      ]
    },
    {
      "cell_type": "code",
      "metadata": {
        "ExecuteTime": {
          "end_time": "2019-09-07T17:37:01.623460Z",
          "start_time": "2019-09-07T17:37:01.621218Z"
        },
        "id": "6LJU9GPVRO7B"
      },
      "source": [
        "# your code here"
      ],
      "execution_count": null,
      "outputs": []
    }
  ]
}